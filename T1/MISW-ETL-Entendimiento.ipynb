{
 "cells": [
  {
   "cell_type": "markdown",
   "metadata": {
    "id": "YLE3Y7VOPn3G"
   },
   "source": [
    "# Tutorial: Entendimiento de los datos con PySpark"
   ]
  },
  {
   "cell_type": "markdown",
   "metadata": {
    "id": "7wFQzBv_Pn3J"
   },
   "source": [
    "## Introducción\n",
    "    ¿Qué aprenderá? \n",
    "    En este tutorial aprenderá cómo puede realizar el entendimiento de los datos en el contexto de un proyecto de analítica. A nivel de la metodología ASUM-DM estamos en la fase de entendimiento de datos y en la arquitectura nos encontramos trabajando con el componente de fuentes de datos.\n",
    "\n",
    "    ¿Qué construirá? \n",
    "    En este tutorial realizará la exploración o perfilamiento de un conjunto de datos provenientes de una base de datos relacional, al igual que un análisis de la calidad de los datos utilizando los DataFrames de PySpark. Además, generará las conclusiones requeridas para ser compartidas en reuniones y formalizadas en la documentación del proyecto. Las conclusiones son variadas pero en general podemos decir que siempre deberían incluir una lista de preguntas o aclaraciones para la organización, conclusiones de los datos/problemas de calidad y alternativas para la limpieza. Un entendimiento de datos sin conclusiones no es útil y tampoco es entendible para personas de negocio.\n",
    "    \n",
    "    ¿Para qué?\n",
    "    Antes de realizar cualquier tipo de proyecto de datos es necesario entender los datos con unas tareas de exploración o perfilamiento de datos y de análisis de calidad. Esta fase de la metodología permite determinar si es posible o no realizar el proyecto dada la cantidad y calidad de los datos, el tiempo requerido para su preparación y las diferentes actividades que se requieren para mejorar los datos en caso de requerirse.  \n",
    "    \n",
    "    ¿Qué necesita?\n",
    "    Los siguientes requisitos se encuentran instalados en la máquina virtual asignada a cada estudiante, específicamente en el ambiente de anaconda llamado \"Tutoriales\". Recuerde que tiene a su disposición el tutorial de conexión a máquinas virtuales en la semana 1 de Coursera\n",
    "    1. Python 3 con pip instalado\n",
    "    2. Jupyter Labs\n",
    "    3. Paquetes: Pyspark (3.2.1), pandas (1.2.1), numpy (1.20.0) y matplotlib (3.3.4)\n",
    "    Otros:\n",
    "    1. Controlador Connector J(ya se encuentra configurado)\n",
    "    2. Acceso a servidor remoto MySQL con base de datos relacional \"WWImportersTransactional\". Recuerde que tiene a su disposición el tutorial de conexión remoto a Mysql en la semana 1 de Coursera\n"
   ]
  },
  {
   "cell_type": "markdown",
   "metadata": {
    "id": "V3leWyj9Pn3L"
   },
   "source": [
    "Continuando con el proyecto de consultoria de Wide World Importers, el primer paso para iniciar la comprensión de los datos es explorar y entender las fuentes de datos disponibles. Note que esto también nos ayuda a comprender mejor la organización."
   ]
  },
  {
   "cell_type": "markdown",
   "metadata": {
    "id": "dm33nuYTPn3L"
   },
   "source": [
    "## Configuración e importe de paquetes\n",
    "Se utilizará el paquete de pandas profiling para apoyar el análisis estadístico, y se importan los paquetes de python\n",
    "necesarios"
   ]
  },
  {
   "cell_type": "code",
   "execution_count": 126,
   "metadata": {
    "id": "gGiDdRBNPn3M"
   },
   "outputs": [],
   "source": [
    "from pyspark.sql import SparkSession\n",
    "from pyspark.sql import functions\n",
    "from pyspark.sql.types import StructType\n",
    "from pyspark import SparkContext, SparkConf, SQLContext\n",
    "from pyspark.sql.types import FloatType, StringType, IntegerType, DateType\n",
    "from pyspark.sql.functions import udf, col, length, isnan, when, count\n",
    "import pyspark.sql.functions as f\n",
    "import os \n",
    "from datetime import datetime\n",
    "from pyspark.sql import types as t\n",
    "from pandas_profiling import ProfileReport\n",
    "import matplotlib.pyplot as plt\n",
    "import numpy as np\n",
    "import pyspark\n",
    "from pyspark_dist_explore import hist\n"
   ]
  },
  {
   "cell_type": "code",
   "execution_count": 127,
   "metadata": {},
   "outputs": [],
   "source": [
    "spark.stop()"
   ]
  },
  {
   "cell_type": "markdown",
   "metadata": {
    "id": "Tyk0YmZRPn3N"
   },
   "source": [
    "Configuración del controlador e inicio de sesion Spark"
   ]
  },
  {
   "cell_type": "code",
   "execution_count": 128,
   "metadata": {
    "id": "0r-yix1rPn3O"
   },
   "outputs": [],
   "source": [
    "path_jar_driver = 'C:\\Program Files (x86)\\MySQL\\Connector J 8.0\\mysql-connector-java-8.0.28.jar'"
   ]
  },
  {
   "cell_type": "code",
   "execution_count": 129,
   "metadata": {
    "id": "0-m3Q2MtPn3O",
    "outputId": "459f0ec2-9a36-4a36-edac-427852524d95"
   },
   "outputs": [
    {
     "name": "stderr",
     "output_type": "stream",
     "text": [
      "C:\\Users\\estudiante\\anaconda3\\envs\\Tutoriales\\lib\\site-packages\\pyspark\\sql\\context.py:79: FutureWarning: Deprecated in 3.0.0. Use SparkSession.builder.getOrCreate() instead.\n",
      "  FutureWarning\n"
     ]
    }
   ],
   "source": [
    "#Configuración de la sesión\n",
    "conf=SparkConf() \\\n",
    "    .set('spark.driver.extraClassPath', path_jar_driver)\n",
    "\n",
    "spark_context = SparkContext(conf=conf)\n",
    "sql_context = SQLContext(spark_context)\n",
    "spark = sql_context.sparkSession\n"
   ]
  },
  {
   "cell_type": "code",
   "execution_count": 130,
   "metadata": {
    "id": "0eQw66SIPn3P"
   },
   "outputs": [],
   "source": [
    "# Si quiere practicar la conexion con el servidor de base de datos:\n",
    "db_connection_string = 'jdbc:mysql://ip:8080/WWImportersTransactional'\n",
    "# El usuario es su estudiante _i asignado y su contraseña la encontrará en el archivo excel de Coursera \n",
    "db_user = ':)'\n",
    "db_psswd = ':D'\n",
    "\n",
    "PATH='./'"
   ]
  },
  {
   "cell_type": "markdown",
   "metadata": {
    "id": "P1nkSAn5Pn3Q"
   },
   "source": [
    "## Perfilamiento de los datos\n",
    "El perfilamiento se basa en varios aspectos: **entendimiento general** de los datos compartidos, validación de **reglas de negocio**, **análisis descriptivo** utilizando estadística descriptiva y diagramas para la visualización de los datos y **análisis de calidad**. El primero hace referencia a tener una comprensiòn global antes de entrar en los detalles, la segunda sobre las reglas, corresponden a especificaciones dadas por el negocio en relación con los datos, un ejemplo de regla de negocio dada es: \"Todo producto de la canasta familiar debe tener un precio de IVA equivalente a 19%\", dada esta regla de negocio, se debe revisar en los datos suministrados que no hayan valores de IVA menores a 19%. En el tercer aspecto, relacionado con el análisis descriptivo, se revisan estadísticas: mínimo, máximo, media, mediana, distribuciones de los datos, valores nulos, cardinalidad con el fin de comprender en mayor nivel de profundidad los datos compartidos.\n"
   ]
  },
  {
   "cell_type": "markdown",
   "metadata": {
    "id": "p6KvbuvpPn3Q"
   },
   "source": [
    "### Información dada por la organización relacionada con los datos\n",
    "El grupo de consultores de analitica descriptiva de Wide World Importers asegura que las tablas Grupo de compras, Ciudades, Colores, Paises, Clientes, Categorias de clientes, Paquetes, Estados y provincias, Productos y Personas ya fueron perfiladas y corregidos; sin embargo le recomiendan revisar el diccionario suministrado dado que todas las tablas serán utilizadas en futuros requerimientos (tutoriales y ejercicios) que lo encuentra [aqui](./Diccionario%20WWImporters.xlsx). Si tienen alguna duda relacionada con estas tablas deben incluirla en las preguntas o aclaraciones que le entreguen a la organización como parte del resultado de esta fase de entendimiento.\n",
    "\n",
    "En este punto de la consultorìa, nuestra responsabilidad es analizar las tablas ordenes y detalles de ordenes, relacionadas con al proceso de ordenes de compra de productos. Con respecto a esas fuentes nos comentan lo siguiente:\n",
    "\n",
    "- La tasa de impuesto es de 10% o 15%\n",
    "- Son 74.179 órdenes detalladas en 57.981 lineas de detalle de órdenes realizadas desde 2013\n",
    "- El formato de fechas manejado es YYYY-MM-DD HH:MM:SS si tienen hora, minutos y segundos. De lo contrario el formato es YYYY-MM-DD\n"
   ]
  },
  {
   "cell_type": "markdown",
   "metadata": {
    "id": "Xw96w3ywPn3R"
   },
   "source": [
    "### Conexión a fuente de datos y acceso a los datos"
   ]
  },
  {
   "cell_type": "markdown",
   "metadata": {
    "id": "LKHpN3nzPn3R"
   },
   "source": [
    "#### Conexión a fuente de datos\n",
    "A continuación encuentra las funciones para conectarse a la fuente de datos (archivo csv o base de datos) y retornar un dataframe que es el que se utilizará posteriormente para manipular los datos."
   ]
  },
  {
   "cell_type": "code",
   "execution_count": 131,
   "metadata": {
    "id": "SsdwInchPn3R"
   },
   "outputs": [],
   "source": [
    "def obtener_dataframe_de_bd(db_connection_string, sql, db_user, db_psswd):\n",
    "    df_bd = spark.read.format('jdbc')\\\n",
    "        .option('url', db_connection_string) \\\n",
    "        .option('dbtable', sql) \\\n",
    "        .option('user', db_user) \\\n",
    "        .option('password', db_psswd) \\\n",
    "        .option('driver', 'com.mysql.cj.jdbc.Driver') \\\n",
    "        .load()\n",
    "    return df_bd"
   ]
  },
  {
   "cell_type": "markdown",
   "metadata": {
    "id": "3HZloEq5Pn3S"
   },
   "source": [
    "#### Cargue de datos\n",
    "Para consultar desde la base de datos se puede acceder directamente a la tabla dado su nombre o se puede especificar la sentencia SQL de un \"SELECT\" completo para traer la información total o parcial de la tabla que se requiere. A continuación un ejemplo de cada uno de estos usos. \n",
    "Acceso directo para el caso de órdenes y acceso con sentencia SQL para el caso de detallesOrdenes."
   ]
  },
  {
   "cell_type": "code",
   "execution_count": 132,
   "metadata": {
    "id": "xMaQViPnPn3S"
   },
   "outputs": [],
   "source": [
    "sql_ordenes = 'WWImportersTransactional.OrdenesCopia'"
   ]
  },
  {
   "cell_type": "code",
   "execution_count": 133,
   "metadata": {
    "id": "fDRojcVMPn3S"
   },
   "outputs": [],
   "source": [
    "sql_detallesOrdenes = '''(SELECT \n",
    "        Detalle_orden_ID, \n",
    "        ID_de_pedido, \n",
    "        ID_Producto, \n",
    "        Descripcion, \n",
    "        ID_Tipo_Paquete, \n",
    "        Cantidad, \n",
    "        Precio_unitario, \n",
    "        Tasa_de_impuesto, \n",
    "        Cantidad_seleccionada, \n",
    "        Seleccion_completada_cuando \n",
    "        FROM WWImportersTransactional.DetallesOrdenesCopia) AS Compatible'''"
   ]
  },
  {
   "cell_type": "code",
   "execution_count": 134,
   "metadata": {
    "id": "Ajy_XMshPn3T"
   },
   "outputs": [],
   "source": [
    "#Se cargan los dataframes desde la base de datos\n",
    "ordenes = obtener_dataframe_de_bd(db_connection_string, sql_ordenes, db_user, db_psswd)\n",
    "detallesOrdenes = obtener_dataframe_de_bd(db_connection_string, sql_detallesOrdenes, db_user, db_psswd)"
   ]
  },
  {
   "cell_type": "markdown",
   "metadata": {
    "id": "qxN27II0Pn3T"
   },
   "source": [
    "### Entendimiento general de datos"
   ]
  },
  {
   "cell_type": "markdown",
   "metadata": {
    "id": "BMULJYE2Pn3T"
   },
   "source": [
    "Para ver una muestra de los datos, utilice el comando <i>show</i> ingresando el número de filas que quiere ver"
   ]
  },
  {
   "cell_type": "code",
   "execution_count": 135,
   "metadata": {
    "id": "HtrqSl0zPn3T",
    "outputId": "c20c03fc-68d4-4d2e-eb8f-91a06cdd3174"
   },
   "outputs": [
    {
     "name": "stdout",
     "output_type": "stream",
     "text": [
      "+------------+-------------+--------------+------------------------------+-------------------------+----------------------+---------------+-------------------------+--------------------------------------+-------------------------------------------+-----------+------------------------+--------------------+---------------------------+\n",
      "|ID_de_pedido|ID_de_cliente|ID_de_vendedor|Seleccionado_por_ID_de_persona|ID_de_persona_de_contacto|ID_de_pedido_pendiente|Fecha_de_pedido|Fecha_de_entrega_esperada|Numero_de_pedido_de_compra_del_cliente|Pedido_pendiente_de_suministro_insuficiente|Comentarios|Instrucciones_de_entrega|Comentarios_internos|Seleccion_completada_cuando|\n",
      "+------------+-------------+--------------+------------------------------+-------------------------+----------------------+---------------+-------------------------+--------------------------------------+-------------------------------------------+-----------+------------------------+--------------------+---------------------------+\n",
      "|       44495|          139|             6|                            18|                     1277|                  null|    Mar 05,2015|               2015-03-06|                                 13118|                                       true|       null|                    null|                null|        2015-03-06 11:00:00|\n",
      "|       45625|          892|            15|                            17|                     3092|                  null|    Mar 24,2015|               2015-03-25|                                 11303|                                       true|       null|                    null|                null|        2015-03-24 11:00:00|\n",
      "|       23645|          542|             8|                             9|                     2283|                  null|    Mar 18,2014|               2014-03-19|                                 18340|                                       true|       null|                    null|                null|        2014-03-18 11:00:00|\n",
      "|       47505|          924|            15|                             4|                     3124|                  null|    Apr 21,2015|               2015-04-22|                                 18645|                                       true|       null|                    null|                null|        2015-04-21 11:00:00|\n",
      "|       37755|           43|             7|                            10|                     1085|                  null|    Nov 11,2014|               2014-11-12|                                 16259|                                       true|       null|                    null|                null|        2014-11-11 11:00:00|\n",
      "+------------+-------------+--------------+------------------------------+-------------------------+----------------------+---------------+-------------------------+--------------------------------------+-------------------------------------------+-----------+------------------------+--------------------+---------------------------+\n",
      "only showing top 5 rows\n",
      "\n"
     ]
    }
   ],
   "source": [
    "ordenes.show(5)"
   ]
  },
  {
   "cell_type": "code",
   "execution_count": 136,
   "metadata": {
    "id": "MyjWrCe-Pn3T",
    "outputId": "cd7b96e1-d88a-4aef-a525-cc8b810e21d1"
   },
   "outputs": [
    {
     "name": "stdout",
     "output_type": "stream",
     "text": [
      "+----------------+------------+-----------+--------------------+---------------+--------+---------------+----------------+---------------------+---------------------------+\n",
      "|Detalle_orden_ID|ID_de_pedido|ID_Producto|         Descripcion|ID_Tipo_Paquete|Cantidad|Precio_unitario|Tasa_de_impuesto|Cantidad_seleccionada|Seleccion_completada_cuando|\n",
      "+----------------+------------+-----------+--------------------+---------------+--------+---------------+----------------+---------------------+---------------------------+\n",
      "|          206857|       65697|        205|Tape dispenser (B...|              7|      60|             32|              15|                   60|        2016-01-27 11:00:00|\n",
      "|          206858|       65698|         45|Developer joke mu...|              7|       3|             13|              15|                    3|        2016-01-27 11:00:00|\n",
      "|          206859|       65698|         72|Ride on toy sedan...|              7|       3|            230|              15|                    3|        2016-01-27 11:00:00|\n",
      "|          206861|       65698|        115|Superhero action ...|              7|       1|             34|              15|                    1|        2016-01-27 11:00:00|\n",
      "|          206862|       65698|         10|                   a|              7|       5|             32|              15|                    5|        2016-01-27 11:00:00|\n",
      "+----------------+------------+-----------+--------------------+---------------+--------+---------------+----------------+---------------------+---------------------------+\n",
      "only showing top 5 rows\n",
      "\n"
     ]
    }
   ],
   "source": [
    "detallesOrdenes.show(5)"
   ]
  },
  {
   "cell_type": "markdown",
   "metadata": {
    "id": "Q_aZvenTPn3U"
   },
   "source": [
    "Como puede observar en la tabla de ordenes tenemos información **relacionada con el cliente, el empleado y con la órden**. La información del cliente es su identificador <i>ID_de_cliente</i>, el identificador de la persona que eligió la órden <i>eleccionado_por_ID_de_persona</i>, el identificador de la persona de contacto <i>ID_de_persona_de_contacto</i>, el <i>Número_de_pedido_de_compra_del_cliente</i>. La información del empleado es su identificador <i>ID_de_vendedor</i>. La información de la órden es: el identificador de la órden <i>ID_de_pedido</i>, el identificador que indica si es un pedido pendiente <i>ID_de_pedido_pendiente</i>, la fecha en la que se realizó el pedido <i>Fecha_de_pedido</i>, la fecha de entrega esperada del pedido <i>Fecha_de_entrega_esperada</i> y <i>Pedido_pendiente_de_suministro_insuficiente</i> que indica si es un pedido pendiente o no.\n",
    "El esquema de un DataFrame incluye los nombres de las columnas asi como el tipo de dato. Recuerde que tipo de dato (e.g., booleano, caracteres, enteros, flotantes, colecciones) es diferente a tipo de variable (numérica y categórica)."
   ]
  },
  {
   "cell_type": "code",
   "execution_count": 137,
   "metadata": {
    "id": "lLV_ItLhPn3U",
    "outputId": "db9438a4-0a6d-4809-ea99-752add60ad64"
   },
   "outputs": [
    {
     "data": {
      "text/plain": [
       "StructType(List(StructField(ID_de_pedido,IntegerType,true),StructField(ID_de_cliente,IntegerType,true),StructField(ID_de_vendedor,IntegerType,true),StructField(Seleccionado_por_ID_de_persona,IntegerType,true),StructField(ID_de_persona_de_contacto,IntegerType,true),StructField(ID_de_pedido_pendiente,IntegerType,true),StructField(Fecha_de_pedido,StringType,true),StructField(Fecha_de_entrega_esperada,StringType,true),StructField(Numero_de_pedido_de_compra_del_cliente,StringType,true),StructField(Pedido_pendiente_de_suministro_insuficiente,BooleanType,true),StructField(Comentarios,StringType,true),StructField(Instrucciones_de_entrega,StringType,true),StructField(Comentarios_internos,StringType,true),StructField(Seleccion_completada_cuando,TimestampType,true)))"
      ]
     },
     "execution_count": 137,
     "metadata": {},
     "output_type": "execute_result"
    }
   ],
   "source": [
    "ordenes.schema"
   ]
  },
  {
   "cell_type": "markdown",
   "metadata": {
    "id": "seP-zo8JPn3U"
   },
   "source": [
    "Por otra parte, en los detalles de ordenes se tiene **información del pedido y del producto**. Del pedido se tiene el identificador del detalle <i>Detalle_orden_ID</i>, el identificador de la orden a la que está relacionado cada detalle <i>ID_de_pedido</i>, la <i>Cantidad_seleccionada</i> del producto para la orden, la fecha de selección <i>Seleccion_completada_cuando</i>. Del producto tenemos el <i>ID_Producto</i>, su <i>Descripcion</i>, el tipo de paquete <i>ID_Tipo_Paquete</i> (Ej. 1.Bolsa, 4. Caja), la <i>Cantidad</i>, el <i>Precio_unitario</i>, y la <i>Tasa_impuesto</i> asociada a ese producto. Una primera aclaración a solicitar por parte del negocio es cuál es la diferencia entre cantidad y cantidad seleccionada"
   ]
  },
  {
   "cell_type": "code",
   "execution_count": 138,
   "metadata": {
    "id": "0bQrARjCPn3V",
    "outputId": "081c3dac-70e5-4d6f-c33e-051f7e688ec8"
   },
   "outputs": [
    {
     "data": {
      "text/plain": [
       "StructType(List(StructField(Detalle_orden_ID,IntegerType,true),StructField(ID_de_pedido,IntegerType,true),StructField(ID_Producto,IntegerType,true),StructField(Descripcion,StringType,true),StructField(ID_Tipo_Paquete,IntegerType,true),StructField(Cantidad,IntegerType,true),StructField(Precio_unitario,DecimalType(10,0),true),StructField(Tasa_de_impuesto,DecimalType(10,0),true),StructField(Cantidad_seleccionada,IntegerType,true),StructField(Seleccion_completada_cuando,TimestampType,true)))"
      ]
     },
     "execution_count": 138,
     "metadata": {},
     "output_type": "execute_result"
    }
   ],
   "source": [
    "detallesOrdenes.schema"
   ]
  },
  {
   "cell_type": "markdown",
   "metadata": {
    "id": "GJDrzRVHPn3V"
   },
   "source": [
    "**¿Qué es una fila de cada fuente compartida?**\n",
    "Con estos análisis podemos concluir que una fila de órdenes representa la órden realizada por un cliente y atendida por un empleado. Mientras que el detalle de órden coincide con su nombre y contiene el detalle de cada producto solicitado en una órden."
   ]
  },
  {
   "cell_type": "markdown",
   "metadata": {
    "id": "uw09BODdPn3V"
   },
   "source": [
    "Una vez entendida en términos generales la estructura de los datos, es necesario conocer la cantidad de datos disponibles, esto se hace con count() y con columns, que retornan el número de filas y número de columnas respectivamente."
   ]
  },
  {
   "cell_type": "code",
   "execution_count": 139,
   "metadata": {
    "id": "g0Lvl535Pn3V",
    "outputId": "6fb3f30d-2179-4d50-ddd5-4880e28673d8"
   },
   "outputs": [
    {
     "name": "stdout",
     "output_type": "stream",
     "text": [
      "(58320, 10) (88258, 14)\n"
     ]
    }
   ],
   "source": [
    "print((detallesOrdenes.count(), len(detallesOrdenes.columns)),(ordenes.count(), len(ordenes.columns)))"
   ]
  },
  {
   "cell_type": "markdown",
   "metadata": {
    "id": "kqwEyUFpPn3V"
   },
   "source": [
    "**¿Cuantos datos nos compartieron para el proyecto?**\n",
    "En total tenemos 58.320 detalles de orden  y 88.258 órdenes y tenemos en total 24 variables a revisar de las cuales 8 son nùmericas asociadas a las órdenes, dos son de tipo fecha y las demás son cadenas de caracteres."
   ]
  },
  {
   "cell_type": "markdown",
   "metadata": {
    "id": "GnAScmClPn3W"
   },
   "source": [
    "### Revisión de reglas de negocio \n",
    "\n",
    "Primero se confirman las reglas proporcionadas por el negocio, la primera que asegura que la tasa de impuesto es de 10% o 15% vemos que no es correcta pues al seleccionar esa columna e indicar que queremos ver los valores distintos que puede tomar se observa únicamente el valor 15"
   ]
  },
  {
   "cell_type": "code",
   "execution_count": 140,
   "metadata": {
    "id": "ssjlV5xbPn3W",
    "outputId": "2ab69e67-fcc0-42c0-bf32-425d65c5118b"
   },
   "outputs": [
    {
     "name": "stdout",
     "output_type": "stream",
     "text": [
      "+----------------+\n",
      "|Tasa_de_impuesto|\n",
      "+----------------+\n",
      "|              15|\n",
      "+----------------+\n",
      "\n"
     ]
    }
   ],
   "source": [
    "detallesOrdenes.select(\"Tasa_de_impuesto\").distinct().show()"
   ]
  },
  {
   "cell_type": "markdown",
   "metadata": {
    "id": "55FLtckZPn3W"
   },
   "source": [
    "Si se quiere saber cuántos registros hay por cada valor posible, existen varias formas de hacerlo, en la siguiente celda se muestra cómo iterar sobre los valores resultado de una consulta y cómo filtrar el número de registros para cada valor usando filter y select where, también se da un ejemplo de uso de group by y agregaciones\n",
    "\n",
    "Pyspark tiene funcionalidades de los DataFrames que permiten explorar los datos por medio de agregaciones y estas funcionan similar a como se usan en SQL\n",
    "\n",
    "Primero, se debe agrupar sobre una columna con el método <i>groupBy</i> y después se pueden realizar agregaciones sobre otras columnas con el método <i>agg</i>. La sintaxis es la siguiente: \n",
    " ``` \n",
    "    DataFrame.groupBy('COLUMN NAME').agg({'COLUMN NAME 1': 'mean', 'COLUMN NAME 2': 'count', 'COLUMN NAME 3': 'max'})\n",
    "  ``` \n",
    "\n",
    "En cualquiera de los 3 casos se observa que el resultado es el mismo"
   ]
  },
  {
   "cell_type": "code",
   "execution_count": 141,
   "metadata": {
    "id": "oF0aFycqPn3W",
    "outputId": "62fc6101-ad21-4e65-b2d2-849c9752d005"
   },
   "outputs": [
    {
     "name": "stdout",
     "output_type": "stream",
     "text": [
      "número de registros con 15% de tasa de impuesto: --Usando filter--58320\n",
      "número de registros con 15% de tasa de impuesto: --Usando Select where--58320\n",
      "+----------------+-----+\n",
      "|Tasa_de_impuesto|count|\n",
      "+----------------+-----+\n",
      "|              15|58320|\n",
      "+----------------+-----+\n",
      "\n"
     ]
    }
   ],
   "source": [
    "for row in detallesOrdenes.select('Tasa_de_impuesto').distinct().collect(): \n",
    "    texto = 'número de registros con '+str(row.Tasa_de_impuesto)+ '% de tasa de impuesto: '\n",
    "    opc1 =\"--Usando filter--\"\n",
    "    print(texto+opc1+str(detallesOrdenes.filter(col('Tasa_de_impuesto')==row.Tasa_de_impuesto).count()))\n",
    "    \n",
    "    opc2 =\"--Usando Select where--\"\n",
    "    print(texto+opc2+str(detallesOrdenes.select().where(col('Tasa_de_impuesto')==row.Tasa_de_impuesto).count()))\n",
    "    opc3 =\"--Usando group by--\"\n",
    "detallesOrdenes.groupBy(\"Tasa_de_impuesto\").count().show()"
   ]
  },
  {
   "cell_type": "markdown",
   "metadata": {
    "id": "rIrRLyudPn3W"
   },
   "source": [
    "La conclusión es entonces que la regla no es completamente cierta, pues en los datos no hay ningun registro con tasa_de_impuesto de 10%, es necesario pedir aclaraciones al negocio en relación a este descubrimiento. La segunda regla de negocio implica conocer el número de registros y de variables que los describen, es decir, el número de filas y columnas del DataFrame respectivamente, esto se logra usando count() y columns"
   ]
  },
  {
   "cell_type": "code",
   "execution_count": 142,
   "metadata": {
    "id": "FzPokPTyPn3W",
    "outputId": "d931d421-b755-496a-f77c-e04c616c7842"
   },
   "outputs": [
    {
     "name": "stdout",
     "output_type": "stream",
     "text": [
      "(58320, 10) (88258, 14)\n"
     ]
    }
   ],
   "source": [
    "print((detallesOrdenes.count(), len(detallesOrdenes.columns)),(ordenes.count(), len(ordenes.columns)))"
   ]
  },
  {
   "cell_type": "markdown",
   "metadata": {
    "id": "M48A5DanPn3X"
   },
   "source": [
    "Podemos concluir que esta regla de negocio no es cierta dado que el número de registros no parece coincidir con el número dado por el negocio, una primera intuición nos dice que podrían haber registros duplicados y si existen hay que reportarlos y eliminarlos en la fase de preparación de los datos. Esta es la primera conclusión del análisis de entendimiento de datos."
   ]
  },
  {
   "cell_type": "code",
   "execution_count": 143,
   "metadata": {
    "id": "yWq4-hOHPn3X",
    "outputId": "03b34472-ec29-47c9-c37a-33e9439e0eb2"
   },
   "outputs": [
    {
     "data": {
      "text/plain": [
       "(58239, 74179)"
      ]
     },
     "execution_count": 143,
     "metadata": {},
     "output_type": "execute_result"
    }
   ],
   "source": [
    "detallesOrdenes.distinct().count(), ordenes.distinct().count() "
   ]
  },
  {
   "cell_type": "markdown",
   "metadata": {
    "id": "1kH3BhCgPn3X"
   },
   "source": [
    "Como pueden ver hay 58.239 detalles de orden y 74.179 ordenes únicas. Es decir que sabemos que hay 14.079 ordenes completamente repetidas, pero entonces ¿por qué el número de detalles de orden que hay en los datos no coincide con el dado por la organización? \n",
    "\n",
    "La respuesta es que no basta solo con revisar si hay registros idénticos, puede que hayan registros con columnas identificadoras o lo que conoceriamos como las llaves primarias repetidas pero con diferentes valores en los otros atributos. Esto se da principalmente cuando las bases de datos están mal construidas, aunque hay casos en los cuales tiene sentido. En cualquier caso es nuestra responsabilidad preveer estos escenarios, por ende se revisan los datos por la llave primaria de esta tabla:"
   ]
  },
  {
   "cell_type": "code",
   "execution_count": 144,
   "metadata": {
    "id": "MTV-XifxPn3X",
    "outputId": "6406990d-b30b-4e99-828a-bacbd587c951"
   },
   "outputs": [
    {
     "data": {
      "text/plain": [
       "57981"
      ]
     },
     "execution_count": 144,
     "metadata": {},
     "output_type": "execute_result"
    }
   ],
   "source": [
    "detallesOrdenes.select(col('Detalle_orden_ID')).distinct().count()"
   ]
  },
  {
   "cell_type": "markdown",
   "metadata": {
    "id": "CxNL9EcuPn3Y"
   },
   "source": [
    "De esta manera vemos que hay una diferencia de 258 registros cuyo identificador es el mismo y vemos que el número de identificadores únicos coincide con el número dado por el negocio, la segunda conclusión es entonces que tenemos 258 registros que representan el mismo detalle de orden pero con valores distintos.\n",
    "\n",
    "Lo siguiente es verificar las fechas en los datos, nos dicen que son ordenes desde 2013 por lo que se revisa la fecha mínima del atributo Fecha_de_pedido, como se observa la fecha mínima es de 2014 enero 1, esto nos indica que la regla de negocio no es correcta o faltan datos, esta es la tercera conclusión"
   ]
  },
  {
   "cell_type": "code",
   "execution_count": 145,
   "metadata": {
    "id": "YOjCx-PyPn3Y",
    "outputId": "fd34900d-de7a-40e4-d317-bf9b1ecc458f"
   },
   "outputs": [
    {
     "name": "stdout",
     "output_type": "stream",
     "text": [
      "+--------------------+\n",
      "|min(Fecha_de_pedido)|\n",
      "+--------------------+\n",
      "|          2014-01-01|\n",
      "+--------------------+\n",
      "\n"
     ]
    }
   ],
   "source": [
    "ordenes.agg({\"Fecha_de_pedido\": \"min\"}).show()"
   ]
  },
  {
   "cell_type": "markdown",
   "metadata": {
    "id": "IwubJmKdPn3Y"
   },
   "source": [
    " ``` \n",
    "Como ve en el comando anterior las agregaciones también se pueden realizar sin un groupBy.\n",
    " ``` "
   ]
  },
  {
   "cell_type": "markdown",
   "metadata": {
    "id": "8_WfDYLHPn3Y"
   },
   "source": [
    "La siguiente regla nos indica que es necesario revisar el formato de las fechas YYYY-MM-DD HH:MM:SS, un ejemplo es el atributo <i>Fecha_de_pedido</i>. Para esto vamos a hacer uso de expresiones regulares, que son patrones de búsqueda, en este caso queremos 4 dígitos entre 0 y 9 que indican el año seguido del símbolo - luego tenemos un número de 2 dígitos que puede empezar con 0 seguido de un número entre 1 y 9 (meses 01 hasta 09) o 1 seguido de 1 o 2 (meses 11 o 12), sigue otro -, y terminamos con un número de 2 dígitos que van desde el día 01 hasta el 31, se usa rlike smilar a LIKE de SQL"
   ]
  },
  {
   "cell_type": "code",
   "execution_count": 146,
   "metadata": {
    "id": "_KzyrNQ_Pn3Y",
    "outputId": "f9029802-04b2-4bd3-fb29-eb32c5dc175a"
   },
   "outputs": [
    {
     "name": "stdout",
     "output_type": "stream",
     "text": [
      "Número total de ordenes: 88258, número de ordenes con formato correcto: 68223\n"
     ]
    }
   ],
   "source": [
    "regex = \"[0-2]\\d{3}-(0[1-9]|1[0-2])-(0[1-9]|[1-2][0-9]|3[0-1])\"\n",
    "cumplenFormato = ordenes.filter(ordenes[\"Fecha_de_pedido\"].rlike(regex))\n",
    "print(\"Número total de ordenes: \"+str(ordenes.count())+\", número de ordenes con formato correcto: \"+str(cumplenFormato.count()))"
   ]
  },
  {
   "cell_type": "markdown",
   "metadata": {
    "id": "JNAo5XdkPn3Y"
   },
   "source": [
    "Para ver los registros que no cumplen con el formato podemos negar la condición del filtro con el símbolo ~ al principio:"
   ]
  },
  {
   "cell_type": "code",
   "execution_count": 147,
   "metadata": {
    "id": "cfRkDawmPn3Z",
    "outputId": "d1e48a40-41de-4df1-8f43-ff2f6294ae4e"
   },
   "outputs": [
    {
     "name": "stdout",
     "output_type": "stream",
     "text": [
      "+---------------+\n",
      "|Fecha_de_pedido|\n",
      "+---------------+\n",
      "|    Mar 05,2015|\n",
      "|    Mar 24,2015|\n",
      "|    Mar 18,2014|\n",
      "|    Apr 21,2015|\n",
      "|    Nov 11,2014|\n",
      "|    Oct 16,2014|\n",
      "|    May 04,2015|\n",
      "|    Nov 24,2014|\n",
      "|    May 07,2015|\n",
      "|    Sep 10,2014|\n",
      "|    Nov 03,2015|\n",
      "|    Dec 19,2014|\n",
      "|    Apr 27,2016|\n",
      "|    Apr 28,2016|\n",
      "|    Sep 23,2014|\n",
      "|    Oct 02,2015|\n",
      "|    Jun 11,2014|\n",
      "|    Feb 17,2014|\n",
      "|    Aug 14,2015|\n",
      "|    Dec 25,2015|\n",
      "+---------------+\n",
      "only showing top 20 rows\n",
      "\n"
     ]
    },
    {
     "data": {
      "text/plain": [
       "(20035, None)"
      ]
     },
     "execution_count": 147,
     "metadata": {},
     "output_type": "execute_result"
    }
   ],
   "source": [
    "noCumplenFormato = ordenes.filter(~ordenes[\"Fecha_de_pedido\"].rlike(regex))\n",
    "noCumplenFormato.count(), noCumplenFormato.select(col(\"Fecha_de_pedido\")).show()"
   ]
  },
  {
   "cell_type": "markdown",
   "metadata": {
    "id": "N7T3ewQWPn3Z"
   },
   "source": [
    "Concluimos entonces, que hay 20.035 registros cuya fecha no cumple con el formato especificado. Sin embargo, los valores que son diferentes parecen serlo solo porque varia el formato, este tipo de casos pueden ser solucionados fácilmente por lo que una notificación al negocio sería con caracter informativo más que para solicitar una aclaración de su parte.\n",
    "\n",
    "Para facilitar los análisis y evitar inconsistencias o conclusiones erradas vamos a estandarizar los datos, en este caso las fechas. Sin embargo, esta actividad puede hacerse sobre formatos de números, texto entre otras. "
   ]
  },
  {
   "cell_type": "markdown",
   "metadata": {
    "id": "eegq6VGqPn3Z"
   },
   "source": [
    "Algo que se debe tener en cuenta en el perfilamiento de reglas de negocio es que dichas reglas pueden estar incompletas, por ende se recomienda tener especial cuidado con las columnas tipo caracter o string dado que suelen ser pasadas por alto en el análisis estadistico, un ejemplo es la columna **Descripcion**, al ser una columna de descripción del producto se espera que tenga un cierto número de caracteres. Sin embargo haciendo la validación vemos que algunas descripciones son textos incompletos como \"a\". Este podría llegar a ser un problema a futuro por lo que se decide notificar a la organización."
   ]
  },
  {
   "cell_type": "code",
   "execution_count": 148,
   "metadata": {
    "id": "ZLHB_pwSPn3Z",
    "outputId": "67a68544-272a-44af-f39f-52dcd5a09d4c"
   },
   "outputs": [
    {
     "name": "stdout",
     "output_type": "stream",
     "text": [
      "+----------------+------------+-----------+-----------+---------------+--------+---------------+----------------+---------------------+---------------------------+\n",
      "|Detalle_orden_ID|ID_de_pedido|ID_Producto|Descripcion|ID_Tipo_Paquete|Cantidad|Precio_unitario|Tasa_de_impuesto|Cantidad_seleccionada|Seleccion_completada_cuando|\n",
      "+----------------+------------+-----------+-----------+---------------+--------+---------------+----------------+---------------------+---------------------------+\n",
      "|          206862|       65698|         10|          a|              7|       5|             32|              15|                    5|        2016-01-27 11:00:00|\n",
      "|          206874|       65701|         47|          a|              7|       5|             13|              15|                    5|        2016-01-27 11:00:00|\n",
      "|          206909|       65711|         37|          a|              7|       5|             13|              15|                    5|        2016-01-27 11:00:00|\n",
      "|          206914|       65712|        119|          a|              7|       5|             32|              15|                    5|        2016-01-27 11:00:00|\n",
      "|          206938|       65719|          1|          a|              7|       5|             25|              15|                    5|        2016-01-27 11:00:00|\n",
      "|          206939|       65719|         62|          a|              7|       5|             25|              15|                    5|        2016-01-27 11:00:00|\n",
      "|          206942|       65720|        128|          a|              7|       5|             32|              15|                    5|        2016-01-27 11:00:00|\n",
      "|          206946|       65722|         30|          a|              7|       5|             13|              15|                    5|        2016-01-27 11:00:00|\n",
      "|          206989|       65737|        119|          a|              7|       5|             32|              15|                    5|        2016-01-28 11:00:00|\n",
      "|          207023|       65747|         15|          a|              7|       5|            240|              15|                    5|        2016-01-28 11:00:00|\n",
      "|          207033|       65750|         62|          a|              7|       5|             25|              15|                    5|        2016-01-28 11:00:00|\n",
      "|          207056|       65756|         60|          a|              7|       5|             25|              15|                    5|        2016-01-28 11:00:00|\n",
      "|          207069|       65760|         52|          a|              7|       5|             13|              15|                    5|        2016-01-28 11:00:00|\n",
      "|          207175|       65790|         44|          a|              7|       5|             13|              15|                    5|        2016-01-28 11:00:00|\n",
      "|          207178|       65791|         21|          a|              7|       5|             13|              15|                    5|        2016-01-28 11:00:00|\n",
      "|          207189|       65798|        175|          a|              7|       5|            240|              15|                    5|        2016-01-29 11:00:00|\n",
      "|          207296|       65827|        151|          a|              7|       5|             16|              15|                    5|        2016-01-29 11:00:00|\n",
      "|          207318|       65833|        213|          a|              7|       5|             87|              15|                    5|        2016-01-29 11:00:00|\n",
      "|          207320|       65834|         39|          a|              7|       5|             13|              15|                    5|        2016-01-29 11:00:00|\n",
      "|          207323|       65836|        107|          a|              7|       5|             25|              15|                    5|        2016-01-29 11:00:00|\n",
      "+----------------+------------+-----------+-----------+---------------+--------+---------------+----------------+---------------------+---------------------------+\n",
      "only showing top 20 rows\n",
      "\n"
     ]
    }
   ],
   "source": [
    "detallesOrdenes.where(length(col(\"Descripcion\")) <= 10).show()"
   ]
  },
  {
   "cell_type": "markdown",
   "metadata": {
    "id": "UuZspay3Pn3Z"
   },
   "source": [
    "### Análisis descriptivo\n",
    "Una vez cubierto lo básico de reglas de negocio, pasamos a perfilamiento estadístico. Para ver estadisticos generales como conteo, mínimo, máximo, desviación estandar y percentiles utilice summary()"
   ]
  },
  {
   "cell_type": "code",
   "execution_count": 149,
   "metadata": {
    "id": "TkWrIdDhPn3Z",
    "outputId": "7d37ef91-452e-49d9-8282-f1676c2b5ea9"
   },
   "outputs": [
    {
     "name": "stdout",
     "output_type": "stream",
     "text": [
      "+-------+-----------------+-----------------+-----------------+------------------------------+-------------------------+----------------------+---------------+-------------------------+--------------------------------------+-----------+------------------------+--------------------+\n",
      "|summary|     ID_de_pedido|    ID_de_cliente|   ID_de_vendedor|Seleccionado_por_ID_de_persona|ID_de_persona_de_contacto|ID_de_pedido_pendiente|Fecha_de_pedido|Fecha_de_entrega_esperada|Numero_de_pedido_de_compra_del_cliente|Comentarios|Instrucciones_de_entrega|Comentarios_internos|\n",
      "+-------+-----------------+-----------------+-----------------+------------------------------+-------------------------+----------------------+---------------+-------------------------+--------------------------------------+-----------+------------------------+--------------------+\n",
      "|  count|            88258|            88258|            88258|                         74688|                    88258|                  9223|          88258|                    88258|                                 88258|          0|                       0|                   0|\n",
      "|   mean|46547.75124068073| 534.582054884543|10.42955879353713|             10.95699443016281|       2234.9136055655013|     46971.11080993169|           null|                     null|                    14993.604375807292|       null|                    null|                null|\n",
      "| stddev|15608.64492329683|345.8665215804778|5.712593444617196|             5.460278195348016|        800.2809870182093|    15466.668758214684|           null|                     null|                    2882.0331104310303|       null|                    null|                null|\n",
      "|    min|            19443|                1|                2|                             2|                     1001|                 19532|     2014-01-01|               2014-01-02|                                 10001|       null|                    null|                null|\n",
      "|    25%|            33066|              162|                6|                             6|                     1323|                 33756|           null|                     null|                               12493.0|       null|                    null|                null|\n",
      "|    50%|            46542|              521|               13|                            11|                     2241|                 47271|           null|                     null|                               14995.0|       null|                    null|                null|\n",
      "|    75%|            60067|              883|               15|                            16|                     3083|                 60249|           null|                     null|                               17496.0|       null|                    null|                null|\n",
      "|    max|            73595|             1061|               20|                            20|                     3261|                 73595|    Sep 30,2015|               2016-06-01|                                 20000|       null|                    null|                null|\n",
      "+-------+-----------------+-----------------+-----------------+------------------------------+-------------------------+----------------------+---------------+-------------------------+--------------------------------------+-----------+------------------------+--------------------+\n",
      "\n"
     ]
    }
   ],
   "source": [
    "ordenes.summary().show()"
   ]
  },
  {
   "cell_type": "markdown",
   "metadata": {
    "id": "0zEoTVtOPn3Z"
   },
   "source": [
    "En las estadísticas anteriores vemos que las columnas Comentarios, Instrucciones_de_entrega y Comentarios_internos tienen un conteo igual a 0, es decir son columnas vacías por lo que s epueden eliminar, también observamos el calculo de la media para las columnas ID, esto se hace automatico pues son columnas cuyo tipo de dato es numerico, sin embargo estas no son variables numericas por lo cual calcular y/o analizar la media no tiene sentido. La lógica es similar para los otros estadísticos, aunque podemos decir que los ID's de pedido van desde el número 19443 hasta el 73595 por ejemplo"
   ]
  },
  {
   "cell_type": "code",
   "execution_count": 150,
   "metadata": {
    "id": "wMmvsIpSPn3a",
    "outputId": "0dc954ac-a0a3-4e34-9850-b8890f7be3fb"
   },
   "outputs": [
    {
     "name": "stdout",
     "output_type": "stream",
     "text": [
      "+-------+------------------+------------------+------------------+--------------------+---------------+------------------+-----------------+----------------+---------------------+\n",
      "|summary|  Detalle_orden_ID|      ID_de_pedido|       ID_Producto|         Descripcion|ID_Tipo_Paquete|          Cantidad|  Precio_unitario|Tasa_de_impuesto|Cantidad_seleccionada|\n",
      "+-------+------------------+------------------+------------------+--------------------+---------------+------------------+-----------------+----------------+---------------------+\n",
      "|  count|             58320|             58320|             58320|               58320|          58320|             58320|            57337|           58320|                58320|\n",
      "|   mean|152909.77184499314| 91440.73607681756|111.83144718792867|                null|            7.0|213.03914609053498|          44.5468|         15.0000|    39.74422153635117|\n",
      "| stddev| 72929.99490225241|29085.094720342793| 64.32670239320214|                null|            0.0|41408.532099263495|139.4458195075212|             0.0|   55.379265731608136|\n",
      "|    min|                21|                34|                 1|\"The Gu\" red shir...|              7|                 1|                1|              15|                    0|\n",
      "|    25%|             90877|             70002|                56|                null|              7|                 5|             13.0|            15.0|                    5|\n",
      "|    50%|            180386|             84132|               111|                null|              7|                10|             18.0|            15.0|                   10|\n",
      "|    75%|            217010|            115622|               168|                null|              7|                70|             32.0|            15.0|                   60|\n",
      "|    max|            231412|            147172|               227|                   a|              7|          10000000|             1899|              15|                  360|\n",
      "+-------+------------------+------------------+------------------+--------------------+---------------+------------------+-----------------+----------------+---------------------+\n",
      "\n"
     ]
    }
   ],
   "source": [
    "detallesOrdenes.summary().show()"
   ]
  },
  {
   "cell_type": "markdown",
   "metadata": {
    "id": "K5ZlLb22Pn3a"
   },
   "source": [
    "En las estadíticas de orden podemos observar que el valor promedio de precio unitario es 44.54, la cantidad promedio es 213 unidades y el promedio de cantidad seleccionada es 39.74\n",
    "\n",
    "En cuanto a la desviación estandar vemos que, por ejemplo, el precio unitario puede variar en más o menos 139.45. El valor mínimo de cantidad es 1 y el máximo es 10'000.000, de cantidad seleccionada el mínimo es 0 y el máximo 360 y de precio unitario el mínimo es 1 y el máximo 1899. Vemos por ejemplo que el valor máximo de Cantidad indica valores anómalos o extremos, pues en su percentil 75% el valor máximo era 70, es decir, para el 75% de los datos, el valor de Cantidad no superaba el 70. Observamos que la columna ID_Tipo_Paquete solo toma el valor 7, que podría ser o no un error, se notifica al negocio.\n",
    "\n",
    "Otras formas de observar distribución o estadísticos son las graficas, de barras, de dispersión, diagramas de caja, entre otros. Por ejemplo tenemos los siguientes diagramas de caja donde se observa claramente que tenemos un valor extremo en la variable cantidad (primer grafico) y donde podemos ver los valores extremos o bigotes que determinan el punto de separación entre valores atípicos y normales, los valores atipicos, los cuartiles entre otros"
   ]
  },
  {
   "cell_type": "code",
   "execution_count": 151,
   "metadata": {
    "id": "dn8Ez79LPn3a",
    "outputId": "4fdf9370-9987-46a8-80c0-8b4c79655534"
   },
   "outputs": [
    {
     "data": {
      "text/plain": [
       "{'whiskers': [<matplotlib.lines.Line2D at 0x1f75541ed08>,\n",
       "  <matplotlib.lines.Line2D at 0x1f6a2314208>],\n",
       " 'caps': [<matplotlib.lines.Line2D at 0x1f6a230f148>,\n",
       "  <matplotlib.lines.Line2D at 0x1f6a2306488>],\n",
       " 'boxes': [<matplotlib.lines.Line2D at 0x1f750798d88>],\n",
       " 'medians': [<matplotlib.lines.Line2D at 0x1f6a31d5dc8>],\n",
       " 'fliers': [<matplotlib.lines.Line2D at 0x1f6a2ac98c8>],\n",
       " 'means': []}"
      ]
     },
     "execution_count": 151,
     "metadata": {},
     "output_type": "execute_result"
    },
    {
     "data": {
      "image/png": "[encoded data removed]",
      "text/plain": [
       "<Figure size 432x288 with 1 Axes>"
      ]
     },
     "metadata": {
      "needs_background": "light"
     },
     "output_type": "display_data"
    }
   ],
   "source": [
    "%matplotlib inline\n",
    "import matplotlib.pyplot as plt\n",
    "\n",
    "fig1, ax1 = plt.subplots()\n",
    "ax1.set_title('Cantidad de productos')\n",
    "ax1.boxplot(np.array(detallesOrdenes.select('Cantidad').collect()))"
   ]
  },
  {
   "cell_type": "code",
   "execution_count": 152,
   "metadata": {
    "id": "AsMRmF37Pn3a",
    "outputId": "9530d350-dc3e-44ea-fd4f-3e8da68cd702"
   },
   "outputs": [
    {
     "data": {
      "text/plain": [
       "{'whiskers': [<matplotlib.lines.Line2D at 0x1f755985308>,\n",
       "  <matplotlib.lines.Line2D at 0x1f7559ac848>],\n",
       " 'caps': [<matplotlib.lines.Line2D at 0x1f7559acb08>,\n",
       "  <matplotlib.lines.Line2D at 0x1f7559acb48>],\n",
       " 'boxes': [<matplotlib.lines.Line2D at 0x1f755985508>],\n",
       " 'medians': [<matplotlib.lines.Line2D at 0x1f755986d08>],\n",
       " 'fliers': [<matplotlib.lines.Line2D at 0x1f755986588>],\n",
       " 'means': []}"
      ]
     },
     "execution_count": 152,
     "metadata": {},
     "output_type": "execute_result"
    },
    {
     "data": {
      "image/png": "[encoded data removed]",
      "text/plain": [
       "<Figure size 432x288 with 1 Axes>"
      ]
     },
     "metadata": {
      "needs_background": "light"
     },
     "output_type": "display_data"
    }
   ],
   "source": [
    "fig1, ax1 = plt.subplots()\n",
    "ax1.set_title('Cantidad seleccionada')\n",
    "\n",
    "my_list = [float(i) for i in detallesOrdenes.select(f.collect_list('Cantidad_seleccionada')).first()[0]]\n",
    "ax1.boxplot(my_list)"
   ]
  },
  {
   "cell_type": "markdown",
   "metadata": {
    "id": "c0_4fokYPn3a"
   },
   "source": [
    "El análisis anterior es muy útil para variables de tipo numérico, sin embargo es incompleto para las variables de tipo caracter o las variables categoricas, por ende es necesario implementar nuestro propio código par obtener estadisticos como la moda y la mediana. A continuación obtenemos la moda para la variable Descripcion:"
   ]
  },
  {
   "cell_type": "code",
   "execution_count": 153,
   "metadata": {
    "id": "iz9SiUvHPn3b",
    "outputId": "449aaac6-4825-4104-e748-78056fc4f88f"
   },
   "outputs": [
    {
     "name": "stdout",
     "output_type": "stream",
     "text": [
      "+--------------------+-----+\n",
      "|         Descripcion|count|\n",
      "+--------------------+-----+\n",
      "|                   a| 3225|\n",
      "|Halloween skull m...|  306|\n",
      "|Large  replacemen...|  305|\n",
      "|\"The Gu\" red shir...|  303|\n",
      "|\"The Gu\" red shir...|  296|\n",
      "+--------------------+-----+\n",
      "only showing top 5 rows\n",
      "\n"
     ]
    }
   ],
   "source": [
    "detallesOrdenes.groupby(\"Descripcion\").count().orderBy(\"count\", ascending=False).show(5)"
   ]
  },
  {
   "cell_type": "markdown",
   "metadata": {
    "id": "9bG1x9gWPn3b",
    "tags": []
   },
   "source": [
    "## Análisis de calidad de datos\n",
    "La calidad de los datos consiste en validar la idoneidad de los datos analizando varias dimensiones, entre las cuales resaltamos:\n",
    "- Completitud: Datos que no existen o no se conocen\n",
    "- Unicidad (Duplicidad): Datos que son idénticos en diferentes registros o registros con valores idénticos en atributos en los que no debería ocurrir\n",
    "- Consistencia: Esta medida se define por la validez o integridad del dato, en la definición de su estructura, al interior de una fila o entre diferentes filas de la misma fuente o de diferentes fuentes. El manejo de unidades en los datos y el significado del dato son generadores de inconsistencias.\n",
    "- Validez: a nivel de formato y de sentido de los datos más alla de sus valores\n",
    "\n",
    "Para asegurar una calidad mínima de los datos en estas dimensiones hay que entender su origen y posteriormente realizar un proceso de validación de cada una de las dimensiones de perfilamiento que llevará a un entendimiento de los datos disponibles.\n"
   ]
  },
  {
   "cell_type": "markdown",
   "metadata": {
    "id": "WKPFuI9uPn3b"
   },
   "source": [
    "A continuación se definen dos funciones, la primera cuenta los valores vacios por columna de dataframe, la segunda retorna un diccionario de columnas con cardinalidad superior al 50%\n",
    "\n",
    "Te invito a revisar los recursos de calidad de datos que hemos visto en el curso, a continuacion ejemplos daremos algunos ejemplos por cada dimensión para el caso del tutorial"
   ]
  },
  {
   "cell_type": "markdown",
   "metadata": {
    "id": "ZHLs1H0hPn3b"
   },
   "source": [
    "### Unicidad y validez\n",
    "\n",
    "La unicidad se revisó en la segunda regla de negocio y la validez se reviso en el perfilamiento general, en la regla de negocio 3 y en el análisis de la descripción al final de la sección de revisión de reglas de negocio"
   ]
  },
  {
   "cell_type": "markdown",
   "metadata": {
    "id": "QgkzeSm4Pn3b"
   },
   "source": [
    "### Completitud y validez"
   ]
  },
  {
   "cell_type": "code",
   "execution_count": 154,
   "metadata": {
    "id": "mIWH-vVoPn3b"
   },
   "outputs": [],
   "source": [
    "def contar_vacios(df):\n",
    "    resultados = []\n",
    "    for c in df.columns:\n",
    "        vacios = df.filter(df[c].isNull()).count()\n",
    "        if vacios!=0:\n",
    "            print('número de vacíos para columna '+c+': '+str( vacios ))\n",
    "            resultados.append(vacios)\n",
    "    return resultados\n",
    "\n",
    "def cardinalidad(df):\n",
    "    resultado = {}\n",
    "    for c in df.columns:\n",
    "        cardinalidad = df.select(col(c)).distinct().count()\n",
    "        if cardinalidad>=df.count()*0.5:\n",
    "            resultado[c] = cardinalidad\n",
    "    return resultado"
   ]
  },
  {
   "cell_type": "code",
   "execution_count": 155,
   "metadata": {
    "id": "da_z_ti-Pn3b",
    "outputId": "ecac9b39-d97a-422a-a579-698c5733ab7b"
   },
   "outputs": [
    {
     "name": "stdout",
     "output_type": "stream",
     "text": [
      "número de vacíos para columna Seleccionado_por_ID_de_persona: 13570\n",
      "número de vacíos para columna ID_de_pedido_pendiente: 79035\n",
      "número de vacíos para columna Comentarios: 88258\n",
      "número de vacíos para columna Instrucciones_de_entrega: 88258\n",
      "número de vacíos para columna Comentarios_internos: 88258\n",
      "número de vacíos para columna Seleccion_completada_cuando: 4347\n",
      "detalles de ordenes: \n",
      "número de vacíos para columna Precio_unitario: 983\n",
      "número de vacíos para columna Seleccion_completada_cuando: 982\n"
     ]
    }
   ],
   "source": [
    "columnas_vacias_ordenes = contar_vacios(ordenes)\n",
    "print('detalles de ordenes: ')\n",
    "columnas_vacias_detalles = contar_vacios(detallesOrdenes)"
   ]
  },
  {
   "cell_type": "code",
   "execution_count": 156,
   "metadata": {
    "id": "NxXQm_KEPn3c",
    "outputId": "419b9709-25fe-43dd-d63a-a9be645d11f7"
   },
   "outputs": [
    {
     "data": {
      "text/plain": [
       "({'ID_de_pedido': 54145}, {'Detalle_orden_ID': 57981, 'ID_de_pedido': 38742})"
      ]
     },
     "execution_count": 156,
     "metadata": {},
     "output_type": "execute_result"
    }
   ],
   "source": [
    "columnas_alta_cardinalidad_ordenes = cardinalidad(ordenes)\n",
    "columnas_alta_cardinalidad_detalles = cardinalidad(detallesOrdenes)\n",
    "columnas_alta_cardinalidad_ordenes, columnas_alta_cardinalidad_detalles"
   ]
  },
  {
   "cell_type": "markdown",
   "metadata": {
    "id": "vDX10qmfPn3c"
   },
   "source": [
    "Como podemos observar para las ordenes las columnas Seleccionado_por_ID_de_persona tiene 13750 vacios, ID_de_pedido_pendiente: 79035, Comentarios: 88258, Instrucciones_de_entrega: 88258, Comentarios_internos: 88258, Seleccion_completada_cuando: 4347, mientras que para los detalles de ordenes tenemos que las columnas con vacios son Precio_unitario: 983 y Seleccion_completada_cuando: 982. \n",
    "\n",
    "Respecto a cardinalidad, solo la columna Detalle_orden_ID tiene una cardinalidad superior al 50%."
   ]
  },
  {
   "cell_type": "markdown",
   "metadata": {
    "id": "LZyQcqCvPn3c"
   },
   "source": [
    "### Consistencia\n",
    "A nivel de consistencia algunos ejemplos de revisión son precios negativos, productos que aparecen en las ordenes pero que no esten registrados en la tabla de produtos. En nuestro caso vamos a verificar que todas las ordenes tengan detalle de orden y viceversa"
   ]
  },
  {
   "cell_type": "code",
   "execution_count": 157,
   "metadata": {
    "id": "uHEz7IylPn3c",
    "outputId": "0f987de9-4b5e-4532-e42a-a547d3207985"
   },
   "outputs": [
    {
     "data": {
      "text/plain": [
       "(44359, 28956)"
      ]
     },
     "execution_count": 157,
     "metadata": {},
     "output_type": "execute_result"
    }
   ],
   "source": [
    "#consistencia: revisar genially: definicion de consistencia\n",
    "ids_ordenes = set([x.ID_de_pedido for x in ordenes.select('ID_de_pedido').collect()])\n",
    "ids_detalles = set([x.ID_de_pedido for x in detallesOrdenes.select('ID_de_pedido').collect()])\n",
    "\n",
    "len(ids_ordenes-ids_detalles), len(ids_detalles-ids_ordenes)"
   ]
  },
  {
   "cell_type": "markdown",
   "metadata": {
    "id": "oU6a547APn3c"
   },
   "source": [
    "Como se puede observar hay una diferencia de 44.359 ordenes que no tienen detalles y hay 28.956 detalles que no tienen orden. Ninguno de los casos tiene sentido en el contexto de WideWorldImporters. Esta inconsistencia se notifica al negocio dado que no hay forma de conocer cuáles son los registros que pueden tener ids que no existen"
   ]
  },
  {
   "cell_type": "markdown",
   "metadata": {
    "id": "ct4KbukcPn3c"
   },
   "source": [
    "## Herramientas para facilitar el entendimiento de datos"
   ]
  },
  {
   "cell_type": "markdown",
   "metadata": {
    "id": "62jY4uoQPn3d"
   },
   "source": [
    "Algunas de las estadísticas antes desarrolladas pueden obtenerse por medio de herramientas como Pandas Profiling una herramienta muy útil, <b><i>Pero no perfecta ni completa</i></b>, es Pandas profiling que dado un conjunto de datos, nos muestra histogramas, estadísticas etc. A continuación guardamos el reporte en html"
   ]
  },
  {
   "cell_type": "code",
   "execution_count": 158,
   "metadata": {
    "colab": {
     "referenced_widgets": [
      "18d36d8316d14fb2b1046fd12e844ae4",
      "2d029404a2994346918423391fc63c41",
      "0ab77442375c4f09ab98151e743deebc",
      "fec3309b395249d6ac3ecb39f2031344"
     ]
    },
    "id": "TlWywoCUPn3d",
    "outputId": "1a013e5c-269b-4099-a169-b2dd14182d8a"
   },
   "outputs": [
    {
     "name": "stderr",
     "output_type": "stream",
     "text": [
      "Summarize dataset: 100%|██████████| 78/78 [03:49<00:00,  2.94s/it, Completed]                                                                             \n",
      "Generate report structure: 100%|██████████| 1/1 [00:03<00:00,  3.82s/it]\n",
      "Render HTML: 100%|██████████| 1/1 [00:03<00:00,  3.65s/it]\n",
      "Export report to file: 100%|██████████| 1/1 [00:00<00:00, 31.11it/s]\n"
     ]
    }
   ],
   "source": [
    "reporte = ProfileReport(ordenes.toPandas())\n",
    "reporte.to_file(PATH+\"reporte_prefilamiento.html\")"
   ]
  },
  {
   "cell_type": "markdown",
   "metadata": {
    "id": "Ng5FqIGqPn3d"
   },
   "source": [
    "Lo primero que hay que notar es que hay 3 secciones principales. La primera es un resumen, la segunda es un análisis por cada variable y luego tenemos interacciones y correlaciones entre variables. \n",
    "\n",
    "Seccion general del reporte:\n",
    "1. Tenemos 14 variables y 88.258 registros (es decir, ordenes), de las cuales 7 son numericas, 2 categoricas, 1 booleana, 1 datetime y 3 no soportadas (la herramienta entiende tipo de variable como tipo de dato, asi que la información que nos da no es necesariamente correcta en este aspecto).\n",
    "\n",
    "2. En los datos hay 29.3% de datos vacíos, (conclusión)\n",
    "\n",
    "3. El archivo ocupa en memoria 7.5 MB\n",
    "\n",
    "4. No hay registros duplicados\n",
    "\n",
    "Sección de variables del reporte:\n",
    "\n",
    "5. Note que para cada variable nos dan estadisticos como la media, mínimo y máximo asi como un histograma de distribución de la variable, para nuestros datos no observamos nada por fuera de lo comun. (Como valores extremos)\n",
    "\n",
    "6. La variable ID_de_pedido tiene 61.3% de valores distintos, es decir, es una variable con alta cardinalidad. Este tipo de variables no aportan a las relaciones entre filas o columnas, por lo que suelen no ser útiles a la hora de hacer análitica.\n",
    "\n",
    "7. La variable ID_cliente tiene solo el 0,8% de valores distintos, es decir que las ordenes que tenemos parecen ser de pocos clientes, pero que podrían ser recurrentes o fieles\n",
    "\n",
    "8. Hay 10 empleados en los datos de ordenes\n",
    "\n",
    "9. Seleccionado_por_ID_persona tiene 15,4% de datos vacíos, no es muy alto pero podríamos eliminarla si no es importante. Preguntar al negocio\n",
    "\n",
    "10. ID_de_pedido_pendiente tiene un porcentaje de 89,5% de valores vacíos, es casi constante y las columnas constantes no aportan a los análisis, preguntar al negocio si hay algún inconveniente en borrar esta columna\n",
    "\n",
    "11. Hay 1512 Fecha_de_pedido distintos, siendo el 3 de febrero del 2015 una de las fechas con más número de ordenes\n",
    "\n",
    "12. Fecha_de_entrega_esperada y Seleccion_completada_cuando tienen alta cardinalidad\n",
    "\n",
    "Sección de interacciones y correlaciones:\n",
    "\n",
    "Parecen haber columnas con correlaciones(Spearman) iguales a 1, esto significa que ambas columnas representan la misma información, idealmente no queremos columnas \"repetidas\", un ejemplo es ID_cliente y ID_de_persona_de_contacto, decidimos preguntarle al negocio si es necesario mantener ambas columnas"
   ]
  },
  {
   "cell_type": "markdown",
   "metadata": {
    "id": "cBQ9PDaBPn3d"
   },
   "source": [
    "<b>Cabe aclarar que un pandas profiling sin interpretación no es suficiente como análisis para realizar el entendimiento de los datos.\n",
    "\n",
    "Así mismo, recuerde que si es necesario, se debe utilizar otra herramienta (código, visualizaciones, etc) para poder completar el análisis estadístico.</b>"
   ]
  },
  {
   "cell_type": "markdown",
   "metadata": {
    "id": "eDf54JyKPn3d"
   },
   "source": [
    "### Algunas gráficas utiles: Diagrama de caja, dispersion, histogramas para entender las distribuciones de las variables\n",
    "\n",
    "Generalmente las gráficas se emplean para entender la distribución de cada variable, también sirven para visualizar la relación entre 2 o más variables\n",
    "\n",
    "Algunas gráficas útiles son los histogramas, disepersión, diagramas de caja. Hay varias maneras de implementarlos, con paquetes como matplotlib o pandas, con funciones propias de pyspark, etc, a continuacón mostramos cómo hacerlo a travez de pandas"
   ]
  },
  {
   "cell_type": "code",
   "execution_count": 159,
   "metadata": {
    "id": "HB--WS4-Pn3d",
    "outputId": "c2a41c9f-14f8-4d52-e59c-efc769e414c0"
   },
   "outputs": [
    {
     "data": {
      "text/plain": [
       "array([[<AxesSubplot:title={'center':'Cantidad_seleccionada'}>]],\n",
       "      dtype=object)"
      ]
     },
     "execution_count": 159,
     "metadata": {},
     "output_type": "execute_result"
    },
    {
     "data": {
      "image/png": "[encoded data removed]",
      "text/plain": [
       "<Figure size 432x288 with 1 Axes>"
      ]
     },
     "metadata": {
      "needs_background": "light"
     },
     "output_type": "display_data"
    }
   ],
   "source": [
    "#para valores extremos(subir a calidad)\n",
    "detallesOrdenes.toPandas().hist(column='Cantidad_seleccionada')"
   ]
  },
  {
   "cell_type": "code",
   "execution_count": 160,
   "metadata": {
    "id": "bJQ6CqOJPn3d"
   },
   "outputs": [],
   "source": [
    "cantidades = detallesOrdenes.groupby(\"Cantidad\").count().orderBy(\"count\", ascending=False)"
   ]
  },
  {
   "cell_type": "markdown",
   "metadata": {
    "id": "YRGn5uXAPn3e"
   },
   "source": [
    "Como se puede observar, el método retorna un dataframe, que vamos a usar para obtener dos arreglos, uno con el rango de cada una de las barras y otro con la cantidad de registros por rango. Se puede usar Matplotlib para graficar esta información:"
   ]
  },
  {
   "cell_type": "code",
   "execution_count": 161,
   "metadata": {
    "id": "wZY56uzKPn3e",
    "outputId": "d2323c1b-d785-49b8-8fd9-b76094b51657"
   },
   "outputs": [
    {
     "data": {
      "image/png": "[encoded data removed]",
      "text/plain": [
       "<Figure size 5803.2x576 with 1 Axes>"
      ]
     },
     "metadata": {
      "needs_background": "light"
     },
     "output_type": "display_data"
    }
   ],
   "source": [
    "def plotHistogramData(data):\n",
    "    binSides, binCounts = [row[0] for row in data.collect()], [row[1] for row in data.collect()]\n",
    "    binSides = [round(i, 2) for i in binSides]\n",
    "    N = len(binCounts)\n",
    "    ind = np.arange(N)\n",
    "    width = 1\n",
    "\n",
    "    fig, ax = plt.subplots()\n",
    "    rects1 = ax.bar(ind+0.5, binCounts, width, color='b')\n",
    "    \n",
    "    fig.set_size_inches(1.3*N, 8)\n",
    "\n",
    "    ax.set_ylabel('Frecuencia')\n",
    "    ax.set_xlabel('Rango')\n",
    "    ax.set_title('Histograma')\n",
    "    ax.set_xticks(np.arange(N))\n",
    "    ax.set_xticklabels(binSides)\n",
    "\n",
    "    plt.show()\n",
    "\n",
    "plotHistogramData(cantidades)"
   ]
  },
  {
   "cell_type": "markdown",
   "metadata": {
    "id": "47eVd0NJPn3e"
   },
   "source": [
    "El diagrama de dispersion, nos muestra los datos para dos variables en forma de puntos y es muy útil para entender la relación entre dichas variables"
   ]
  },
  {
   "cell_type": "code",
   "execution_count": 162,
   "metadata": {
    "id": "T9sdak3YPn3e",
    "outputId": "657049d5-77c5-4414-e4f5-ecf90c7bd343"
   },
   "outputs": [
    {
     "data": {
      "image/png": "[encoded data removed]",
      "text/plain": [
       "<Figure size 720x432 with 1 Axes>"
      ]
     },
     "metadata": {
      "needs_background": "light"
     },
     "output_type": "display_data"
    }
   ],
   "source": [
    "unitPrices = [row['Precio_unitario'] for row in detallesOrdenes.select(col('Precio_unitario')).collect()]\n",
    "quantities = [row['Cantidad_seleccionada'] for row in detallesOrdenes.collect()]\n",
    "\n",
    "fig, ax = plt.subplots(figsize=(10, 6))\n",
    "ax.scatter(x = unitPrices, y = quantities)\n",
    "plt.xlabel(\"Precios unitarios\")\n",
    "plt.ylabel(\"Cantidades\")\n",
    "\n",
    "plt.show()"
   ]
  },
  {
   "cell_type": "markdown",
   "metadata": {
    "id": "ltTluhtIPn3e"
   },
   "source": [
    "### Otras opciones de exploración\n",
    "PySpark también da la opción de crear tablas de pivotes. En el siguiente ejemplo, se muestra cómo hacer una tabla que permite ver cuántas ordenes hay por cada <i>Fecha_de_pedido</i> y por cada <i>ID_de_vendedor</i>, es decir por fecha y por empleado cuantas ordenes existen:"
   ]
  },
  {
   "cell_type": "code",
   "execution_count": 163,
   "metadata": {
    "id": "jTU_GHMIPn3e",
    "outputId": "d5c71e84-8815-4723-c916-d9b7ee138952"
   },
   "outputs": [
    {
     "name": "stdout",
     "output_type": "stream",
     "text": [
      "+---------------+----+---+---+----+----+----+---+----+---+----+\n",
      "|Fecha_de_pedido|   2|  3|  6|   7|   8|  13| 14|  15| 16|  20|\n",
      "+---------------+----+---+---+----+----+----+---+----+---+----+\n",
      "|     2014-12-13|   7|  8|  7|   5|   3|   6|  7|   6|  2|   6|\n",
      "|     2014-05-27|   6|  7|  8|   6|   2|  11|  6|   5| 13|   6|\n",
      "|     2014-02-22|   6|  4|  2|   6|   4|   3|  2|null| 11|   7|\n",
      "|     2015-05-01|  22| 13| 17|   2|  14|  13|  9|  11| 19|  16|\n",
      "|    Feb 27,2014|   5|  3|  6|   1|   3|null|  3|   3|  7|   1|\n",
      "|     2015-02-09|   2| 13| 15|  18|   8|   6|  6|   7| 15|  15|\n",
      "|    Sep 21,2015|   2|  6|  7|   6|   2|   2|  3|   3|  3|   2|\n",
      "|     2014-07-14|  13| 10| 15|   7|   5|  13| 15|  10| 17|  12|\n",
      "|    Jul 26,2014|   2|  2|  3|   3|   1|   1|  3|null|  1|   2|\n",
      "|    May 14,2016|null|  3|  2|   5|   1|   4|  3|null|  1|   3|\n",
      "|    Aug 22,2015|   1|  1|  2|   4|null|   2|  2|   2|  5|   1|\n",
      "|     2014-12-11|  13| 18|  4|   4|   9|  10|  2|  11|  5|   2|\n",
      "|     2015-02-27|  19| 14| 10|  10|  22|  19| 17|  17|  9|  18|\n",
      "|     2016-04-22|   7| 19|  5|   5|   5|   4|  7|  12| 12|  19|\n",
      "|    Jan 03,2015|null|  1|  4|   1|   3|   1|  1|null|  2|null|\n",
      "|     2015-02-28|   9|  4|  5|   6|   5|  13|  8|   3|  8|   8|\n",
      "|     2015-11-20|  11|  6| 11|  10|  23|  15| 15|   9| 16|  21|\n",
      "|    Mar 25,2015|null|  2|  5|   4|   3|   5|  2|   4|  3|   3|\n",
      "|     2016-05-21|   3|  4|  3|null|   1|   3|  3|   6|  4|   1|\n",
      "|    Oct 14,2014|   4|  4|  3|   1|   4|   4|  5|   5|  1|   3|\n",
      "+---------------+----+---+---+----+----+----+---+----+---+----+\n",
      "only showing top 20 rows\n",
      "\n"
     ]
    }
   ],
   "source": [
    "ordenes.groupBy('Fecha_de_pedido').pivot('ID_de_vendedor').count().show()"
   ]
  },
  {
   "cell_type": "markdown",
   "metadata": {
    "id": "h0eRDQmcPn3f"
   },
   "source": [
    "Otro análisis muy útil es el de la correlación lineal entre dos variables, para ver la matriz de correlacion que mide esta dependencia o la fuerza de la relación lineal entre dos variables vamos a usar pandas, la interpretación es que si entre dos variables A y B  el valor obtenido es cercano a -1 o a 1, se interpreta como que A y B contienen la misma información y por ende no es necesario mantener ambas columnas"
   ]
  },
  {
   "cell_type": "code",
   "execution_count": 164,
   "metadata": {
    "id": "TydBsUX-Pn3f",
    "outputId": "e4779562-9cd6-4881-e97f-d18e5e75f253"
   },
   "outputs": [
    {
     "name": "stderr",
     "output_type": "stream",
     "text": [
      "C:\\Users\\estudiante\\anaconda3\\envs\\Tutoriales\\lib\\site-packages\\pandas\\io\\formats\\style.py:2813: RuntimeWarning: All-NaN slice encountered\n",
      "  smin = np.nanmin(gmap) if vmin is None else vmin\n",
      "C:\\Users\\estudiante\\anaconda3\\envs\\Tutoriales\\lib\\site-packages\\pandas\\io\\formats\\style.py:2814: RuntimeWarning: All-NaN slice encountered\n",
      "  smax = np.nanmax(gmap) if vmax is None else vmax\n"
     ]
    },
    {
     "data": {
      "text/html": [
       "<style type=\"text/css\">\n",
       "#T_ea952_row0_col0, #T_ea952_row1_col1, #T_ea952_row2_col2, #T_ea952_row4_col4, #T_ea952_row5_col5 {\n",
       "  background-color: #b40426;\n",
       "  color: #f1f1f1;\n",
       "}\n",
       "#T_ea952_row0_col1 {\n",
       "  background-color: #4c66d6;\n",
       "  color: #f1f1f1;\n",
       "}\n",
       "#T_ea952_row0_col2 {\n",
       "  background-color: #4358cb;\n",
       "  color: #f1f1f1;\n",
       "}\n",
       "#T_ea952_row0_col3, #T_ea952_row1_col3, #T_ea952_row2_col3, #T_ea952_row3_col0, #T_ea952_row3_col1, #T_ea952_row3_col2, #T_ea952_row3_col3, #T_ea952_row3_col4, #T_ea952_row3_col5, #T_ea952_row4_col3, #T_ea952_row5_col3 {\n",
       "  background-color: #000000;\n",
       "  color: #f1f1f1;\n",
       "}\n",
       "#T_ea952_row0_col4, #T_ea952_row2_col4, #T_ea952_row4_col1 {\n",
       "  background-color: #3c4ec2;\n",
       "  color: #f1f1f1;\n",
       "}\n",
       "#T_ea952_row0_col5 {\n",
       "  background-color: #3e51c5;\n",
       "  color: #f1f1f1;\n",
       "}\n",
       "#T_ea952_row1_col0 {\n",
       "  background-color: #4961d2;\n",
       "  color: #f1f1f1;\n",
       "}\n",
       "#T_ea952_row1_col2, #T_ea952_row1_col4, #T_ea952_row1_col5, #T_ea952_row2_col1, #T_ea952_row4_col0, #T_ea952_row5_col0, #T_ea952_row5_col1, #T_ea952_row5_col4 {\n",
       "  background-color: #3b4cc0;\n",
       "  color: #f1f1f1;\n",
       "}\n",
       "#T_ea952_row2_col0 {\n",
       "  background-color: #4055c8;\n",
       "  color: #f1f1f1;\n",
       "}\n",
       "#T_ea952_row2_col5, #T_ea952_row5_col2 {\n",
       "  background-color: #e1dad6;\n",
       "  color: #000000;\n",
       "}\n",
       "#T_ea952_row4_col2, #T_ea952_row4_col5 {\n",
       "  background-color: #3d50c3;\n",
       "  color: #f1f1f1;\n",
       "}\n",
       "</style>\n",
       "<table id=\"T_ea952_\">\n",
       "  <thead>\n",
       "    <tr>\n",
       "      <th class=\"blank level0\" >&nbsp;</th>\n",
       "      <th class=\"col_heading level0 col0\" >Detalle_orden_ID</th>\n",
       "      <th class=\"col_heading level0 col1\" >ID_de_pedido</th>\n",
       "      <th class=\"col_heading level0 col2\" >ID_Producto</th>\n",
       "      <th class=\"col_heading level0 col3\" >ID_Tipo_Paquete</th>\n",
       "      <th class=\"col_heading level0 col4\" >Cantidad</th>\n",
       "      <th class=\"col_heading level0 col5\" >Cantidad_seleccionada</th>\n",
       "    </tr>\n",
       "  </thead>\n",
       "  <tbody>\n",
       "    <tr>\n",
       "      <th id=\"T_ea952_level0_row0\" class=\"row_heading level0 row0\" >Detalle_orden_ID</th>\n",
       "      <td id=\"T_ea952_row0_col0\" class=\"data row0 col0\" >1.000000</td>\n",
       "      <td id=\"T_ea952_row0_col1\" class=\"data row0 col1\" >0.052772</td>\n",
       "      <td id=\"T_ea952_row0_col2\" class=\"data row0 col2\" >0.022949</td>\n",
       "      <td id=\"T_ea952_row0_col3\" class=\"data row0 col3\" >nan</td>\n",
       "      <td id=\"T_ea952_row0_col4\" class=\"data row0 col4\" >0.003160</td>\n",
       "      <td id=\"T_ea952_row0_col5\" class=\"data row0 col5\" >0.003761</td>\n",
       "    </tr>\n",
       "    <tr>\n",
       "      <th id=\"T_ea952_level0_row1\" class=\"row_heading level0 row1\" >ID_de_pedido</th>\n",
       "      <td id=\"T_ea952_row1_col0\" class=\"data row1 col0\" >0.052772</td>\n",
       "      <td id=\"T_ea952_row1_col1\" class=\"data row1 col1\" >1.000000</td>\n",
       "      <td id=\"T_ea952_row1_col2\" class=\"data row1 col2\" >-0.007438</td>\n",
       "      <td id=\"T_ea952_row1_col3\" class=\"data row1 col3\" >nan</td>\n",
       "      <td id=\"T_ea952_row1_col4\" class=\"data row1 col4\" >-0.003613</td>\n",
       "      <td id=\"T_ea952_row1_col5\" class=\"data row1 col5\" >-0.008976</td>\n",
       "    </tr>\n",
       "    <tr>\n",
       "      <th id=\"T_ea952_level0_row2\" class=\"row_heading level0 row2\" >ID_Producto</th>\n",
       "      <td id=\"T_ea952_row2_col0\" class=\"data row2 col0\" >0.022949</td>\n",
       "      <td id=\"T_ea952_row2_col1\" class=\"data row2 col1\" >-0.007438</td>\n",
       "      <td id=\"T_ea952_row2_col2\" class=\"data row2 col2\" >1.000000</td>\n",
       "      <td id=\"T_ea952_row2_col3\" class=\"data row2 col3\" >nan</td>\n",
       "      <td id=\"T_ea952_row2_col4\" class=\"data row2 col4\" >0.002252</td>\n",
       "      <td id=\"T_ea952_row2_col5\" class=\"data row2 col5\" >0.513602</td>\n",
       "    </tr>\n",
       "    <tr>\n",
       "      <th id=\"T_ea952_level0_row3\" class=\"row_heading level0 row3\" >ID_Tipo_Paquete</th>\n",
       "      <td id=\"T_ea952_row3_col0\" class=\"data row3 col0\" >nan</td>\n",
       "      <td id=\"T_ea952_row3_col1\" class=\"data row3 col1\" >nan</td>\n",
       "      <td id=\"T_ea952_row3_col2\" class=\"data row3 col2\" >nan</td>\n",
       "      <td id=\"T_ea952_row3_col3\" class=\"data row3 col3\" >nan</td>\n",
       "      <td id=\"T_ea952_row3_col4\" class=\"data row3 col4\" >nan</td>\n",
       "      <td id=\"T_ea952_row3_col5\" class=\"data row3 col5\" >nan</td>\n",
       "    </tr>\n",
       "    <tr>\n",
       "      <th id=\"T_ea952_level0_row4\" class=\"row_heading level0 row4\" >Cantidad</th>\n",
       "      <td id=\"T_ea952_row4_col0\" class=\"data row4 col0\" >0.003160</td>\n",
       "      <td id=\"T_ea952_row4_col1\" class=\"data row4 col1\" >-0.003613</td>\n",
       "      <td id=\"T_ea952_row4_col2\" class=\"data row4 col2\" >0.002252</td>\n",
       "      <td id=\"T_ea952_row4_col3\" class=\"data row4 col3\" >nan</td>\n",
       "      <td id=\"T_ea952_row4_col4\" class=\"data row4 col4\" >1.000000</td>\n",
       "      <td id=\"T_ea952_row4_col5\" class=\"data row4 col5\" >-0.001033</td>\n",
       "    </tr>\n",
       "    <tr>\n",
       "      <th id=\"T_ea952_level0_row5\" class=\"row_heading level0 row5\" >Cantidad_seleccionada</th>\n",
       "      <td id=\"T_ea952_row5_col0\" class=\"data row5 col0\" >0.003761</td>\n",
       "      <td id=\"T_ea952_row5_col1\" class=\"data row5 col1\" >-0.008976</td>\n",
       "      <td id=\"T_ea952_row5_col2\" class=\"data row5 col2\" >0.513602</td>\n",
       "      <td id=\"T_ea952_row5_col3\" class=\"data row5 col3\" >nan</td>\n",
       "      <td id=\"T_ea952_row5_col4\" class=\"data row5 col4\" >-0.001033</td>\n",
       "      <td id=\"T_ea952_row5_col5\" class=\"data row5 col5\" >1.000000</td>\n",
       "    </tr>\n",
       "  </tbody>\n",
       "</table>\n"
      ],
      "text/plain": [
       "<pandas.io.formats.style.Styler at 0x1f74d243d88>"
      ]
     },
     "execution_count": 164,
     "metadata": {},
     "output_type": "execute_result"
    }
   ],
   "source": [
    "corr = detallesOrdenes.toPandas().corr(method='pearson')\n",
    "corr.style.background_gradient(cmap='coolwarm')"
   ]
  },
  {
   "cell_type": "markdown",
   "metadata": {
    "id": "kxj4KoVDPn3f"
   },
   "source": [
    "## Conclusiones/resultados"
   ]
  },
  {
   "cell_type": "markdown",
   "metadata": {
    "id": "snq4CGXQPn3f"
   },
   "source": [
    "\n",
    "**Conclusiones generales:**\n",
    "\n",
    "1. En la tabla de ordenes tenemos información **relacionada con el cliente, el empleado y con la órden**. Por otra parte, en los detalles de ordenes se tiene **información del pedido y del producto**\n",
    "2. Una fila de órdenes representa la órden realizada por un cliente y atendida por un empleado. Mientras que el detalle de órden coincide con su nombre y contiene el detalle de cada producto solicitado en una órden.\n",
    "3. ¿cuál es la diferencia entre cantidad y cantidad seleccionada?\n",
    "\n",
    "**Conclusiones de reglas de negocio:**\n",
    "\n",
    "1. La regla 1 no es completamente cierta, pues en los datos no hay ningun registro con tasa_de_impuesto de 10%, es necesario pedir aclaraciones al negocio en relación a este descubrimiento\n",
    "2. La regla 2 no es cierta dado que el número de registros no parece coincidir con el número dado por el negocio, Hay 14.079 ordenes completamente repetidas y 258 registros que representan el mismo detalle de orden pero con valores distintos, los primeros se pueden eliminar, pero ¿qué deberíamos hacer con los segundos?\n",
    "3. Los datos comienzan en enero 1 de 2014, sin embargo la regla 2 nos dice que debería ser desde 2013, ¿es un error o faltan datos?\n",
    "4. Algunos formatos de fecha no coinciden con el dado en la regla 3, por ejemplo del atributo Fecha_de_pedido hay 20 mil registros que no tienen ese formato. En este caso el cambio de formato se puede implementar, ¿estan de acuerdo?\n",
    "5. La descripcion de algunos productos es \"a\", ¿esto es correcto?\n",
    "\n",
    "**Conclusiones de calidad:**\n",
    "\n",
    "1. Las columnas Comentarios, Instrucciones_de_entrega y Comentarios_internos tienen un conteo igual a 0, es decir son columnas vacías por lo que se pueden eliminar\n",
    "2. Vemos por ejemplo que el valor máximo de Cantidad indica valores anómalos o extremos, pues en su percentil 75% el valor máximo era 60, es decir, para el 75% de los datos, el valor de Cantidad no superaba el 70, pero el valor máximo es de 10 millones\n",
    "3. Observamos que la columna ID_Tipo_Paquete solo toma el valor 7, que podría ser o no un error, se notifica al negocio.\n",
    "4. Para las ordenes las columnas Seleccionado_por_ID_de_persona tiene 16662 vacios, ID_de_pedido_pendiente: 96905, Comentarios: 108291, Instrucciones_de_entrega: 108291, Comentarios_internos: 108291, Seleccion_completada_cuando: 5276, mientras que para los detalles de ordenes tenemos que las columnas con vacios son Precio_unitario: 7038 y Seleccion_completada_cuando: 3186.\n",
    "5. Respecto a cardinalidad, solo la columna Detalle_orden_ID tiene una cardinalidad superior al 50%.\n",
    "6. Como se puede observar hay una diferencia de 44.359 ordenes que no tienen detalles y hay 28.956 detalles que no tienen orden. Ninguno de los casos tiene sentido en el contexto de WideWorldImporters. ¿Tienen alguna forma de identificar cual detalle corresponde a cual orden?\n",
    "\n",
    "**Usando herramientas:**\n",
    "\n",
    "Seccion general del reporte:\n",
    "1. Tenemos 14 variables y 88.258 registros (es decir, ordenes), de las cuales 7 son numericas, 2 categoricas, 1 booleana, 1 datetime y 3 no soportadas (la herramienta entiende tipo de variable como tipo de dato, asi que la información que nos da no es necesariamente correcta en este aspecto).\n",
    "\n",
    "2. En los datos hay 29.3% de datos vacíos, (conclusión)\n",
    "\n",
    "3. El archivo ocupa en memoria 7.5 MB\n",
    "\n",
    "4. No hay registros duplicados\n",
    "\n",
    "Sección de variables del reporte:\n",
    "\n",
    "5. Note que para cada variable nos dan estadisticos como la media, mínimo y máximo asi como un histograma de distribución de la variable, para nuestros datos no observamos nada por fuera de lo comun. (Como valores extremos)\n",
    "\n",
    "6. La variable ID_de_pedido tiene 61.3% de valores distintos, es decir, es una variable con alta cardinalidad. Este tipo de variables no aportan a las relaciones entre filas o columnas, por lo que suelen no ser útiles a la hora de hacer análitica.\n",
    "\n",
    "7. La variable ID_cliente tiene solo el 0,8% de valores distintos, es decir que las ordenes que tenemos parecen ser de pocos clientes, pero que podrían ser recurrentes o fieles\n",
    "\n",
    "8. Hay 10 empleados en los datos de ordenes\n",
    "\n",
    "9. Seleccionado_por_ID_persona tiene 15,4% de datos vacíos, no es muy alto pero podríamos eliminarla si no es importante. Preguntar al negocio\n",
    "\n",
    "10. ID_de_pedido_pendiente tiene un porcentaje de 89,5% de valores vacíos, es casi constante y las columnas constantes no aportan a los análisis, preguntar al negocio si hay algún inconveniente en borrar esta columna\n",
    "\n",
    "11. Hay 1512 Fecha_de_pedido distintos, siendo el 3 de febrero del 2015 una de las fechas con más número de ordenes\n",
    "\n",
    "12. Fecha_de_entrega_esperada y Seleccion_completada_cuando tienen alta cardinalidad\n",
    "\n",
    "Sección de correlación:\n",
    "\n",
    "13. Parecen haber columnas con correlaciones(Spearman) iguales a 1, esto significa que ambas columnas representan la misma información, idealmente no queremos columnas \"repetidas\", un ejemplo es ID_cliente y ID_de_persona_de_contacto, decidimos preguntarle al negocio si es necesario mantener ambas columnas\n",
    "\n",
    "**Conclusiones de consultoria**\n",
    "\n",
    "![Requerimiento](./Requerimiento.PNG)\n",
    "\n",
    "Teniendo en cuenta el requerimiento de WWI, consideramos que es posible llevar a cabo una solucióon pues contamos con la información necesaria especificada en el análisis requerido, sin embargo es necesario realizar correcciones a los datos y obtener aclaraciones de parte del negocio para entender completamente la necesidad de negocio"
   ]
  },
  {
   "cell_type": "markdown",
   "metadata": {
    "id": "RPsIPacsPn3f"
   },
   "source": [
    "Para comprobar su comprensión de esta sección, lo invitamos a responder la pregunta:\n",
    "\n",
    "    ¿Qué funcionalidades de PySpark puedo utilizar para realizar el entendimiento de datos y cómo las puedo utilizar?\n",
    "    \n",
    "Como parte de nuestro trabajo es preveer posibles soluciones a las conclusiones de perfilamiento, por ende lo invitamos a responder:\n",
    "\n",
    "    ¿Qué métodos podría utilizar para reemplazar los valores nulos de una columna por el promedio de la misma?"
   ]
  },
  {
   "cell_type": "markdown",
   "metadata": {
    "id": "cpWpho0CPn3f"
   },
   "source": [
    "# 5. Tarea\n",
    "Espacio para desarrollar la tarea propuesta"
   ]
  },
  {
   "cell_type": "markdown",
   "metadata": {},
   "source": [
    "## Cargar datos\n",
    "Carga los registros de la tabla con el nombre \"MovimientosCopia\""
   ]
  },
  {
   "cell_type": "code",
   "execution_count": 165,
   "metadata": {},
   "outputs": [],
   "source": [
    "sql_movimientos = 'WWImportersTransactional.movimientosCopia'\n",
    "movimientos_c = obtener_dataframe_de_bd(db_connection_string, sql_movimientos, db_user, db_psswd)"
   ]
  },
  {
   "cell_type": "markdown",
   "metadata": {
    "id": "IPhtXcD1Pn3g"
   },
   "source": [
    "### Perfilamiento de datos"
   ]
  },
  {
   "cell_type": "markdown",
   "metadata": {},
   "source": [
    "#### Entendimiento general de los datos\n",
    "\n",
    "Podemos ver que la tabla cuenta con 9 columnas, con siguientes atributos y correspondiente tipo de datos:\n",
    "\n",
    "- TransaccionProductoID: IntegerType\n",
    "- ProductoID: IntegerType\n",
    "- TipoTransaccionID: IntegerType\n",
    "- ClienteID: DoubleType\n",
    "- InvoiceID: DoubleType\n",
    "- ProveedorID: StringType\n",
    "- OrdenDeCompraID: StringType\n",
    "- FechaTransaccion: StringType\n",
    "- Cantidad: DoubleType\n",
    "\n",
    "Tenemos:\n",
    "3 columnas de tipo Integer\n",
    "3 columnas de tipo Double\n",
    "3 columnas de tipo String\n",
    "\n",
    "En total 204,292 registros\n",
    "\n",
    "\n",
    "a primera vista y con los 5 registros aleatorios que vemos podemos notar que proveedorID y ordeDeCompraID parecen estar vacios."
   ]
  },
  {
   "cell_type": "code",
   "execution_count": 166,
   "metadata": {},
   "outputs": [
    {
     "name": "stdout",
     "output_type": "stream",
     "text": [
      "+---------------------+----------+-----------------+---------+---------+-----------+---------------+----------------+--------+\n",
      "|TransaccionProductoID|ProductoID|TipoTransaccionID|ClienteID|InvoiceID|ProveedorID|OrdenDeCompraID|FechaTransaccion|Cantidad|\n",
      "+---------------------+----------+-----------------+---------+---------+-----------+---------------+----------------+--------+\n",
      "|               118903|       217|               10|    476.0|  24904.0|           |               |     Apr 25,2014|   -40.0|\n",
      "|               286890|       135|               10|     33.0|  60117.0|           |               |     Dec 10,2015|    -7.0|\n",
      "|               285233|       111|               10|    180.0|  59768.0|           |               |     Dec 04,2015|    -2.0|\n",
      "|               290145|       213|               10|     33.0|  60795.0|           |               |     Dec 23,2015|    -3.0|\n",
      "|               247492|        90|               10|     55.0|  51851.0|           |               |     Jul 27,2015|   -24.0|\n",
      "+---------------------+----------+-----------------+---------+---------+-----------+---------------+----------------+--------+\n",
      "only showing top 5 rows\n",
      "\n"
     ]
    }
   ],
   "source": [
    "movimientos_c.show(5)"
   ]
  },
  {
   "cell_type": "code",
   "execution_count": 167,
   "metadata": {},
   "outputs": [
    {
     "name": "stdout",
     "output_type": "stream",
     "text": [
      "Tipos de datos por columna:\n",
      " StructType(List(StructField(TransaccionProductoID,IntegerType,true),StructField(ProductoID,IntegerType,true),StructField(TipoTransaccionID,IntegerType,true),StructField(ClienteID,DoubleType,true),StructField(InvoiceID,DoubleType,true),StructField(ProveedorID,StringType,true),StructField(OrdenDeCompraID,StringType,true),StructField(FechaTransaccion,StringType,true),StructField(Cantidad,DoubleType,true))) \n",
      "\n",
      "Dimensiones de la tabla: (204292, 9)\n"
     ]
    }
   ],
   "source": [
    "print(\"Tipos de datos por columna:\\n\",movimientos_c.schema,\"\\n\")\n",
    "\n",
    "print(\"Dimensiones de la tabla:\",(movimientos_c.count(), len(movimientos_c.columns)))"
   ]
  },
  {
   "cell_type": "markdown",
   "metadata": {},
   "source": [
    "## Validación de relgas de negocio\n",
    "\n",
    "### Información dada por la organización relacionada con los datos\n",
    "\n",
    "Wide World Importers menciona:\n",
    "\n",
    "1. La cantidad máxima de productos movidos es 50 millones por transacción\n",
    "2. Existen 236.668 movimientos de producto realizados desde 2013\n",
    "3. Los movimientos están relacionados con 228.265 clientes\n",
    "4. El formato de fechas manejado es YYYY-MM-DD HH:MM:SS\n",
    "5. Actualmente tenemos 13 proveedores\n",
    "\n",
    "\n",
    "\n"
   ]
  },
  {
   "cell_type": "markdown",
   "metadata": {},
   "source": [
    "Proveedores en los registros de movimientos."
   ]
  },
  {
   "cell_type": "code",
   "execution_count": 168,
   "metadata": {},
   "outputs": [
    {
     "name": "stdout",
     "output_type": "stream",
     "text": [
      "Distint count de proveedores en la tabla de movimientos: 4 \n",
      "\n",
      "Distint count de clientes en la tabla de movimientos: 664 \n",
      "\n"
     ]
    }
   ],
   "source": [
    "print(\"Distint count de proveedores en la tabla de movimientos:\",movimientos_c.select(col('ProveedorID')).distinct().count(),\"\\n\")\n",
    "\n",
    "print(\"Distint count de clientes en la tabla de movimientos:\",movimientos_c.select(col('ClienteID')).distinct().count(),\"\\n\")"
   ]
  },
  {
   "cell_type": "markdown",
   "metadata": {},
   "source": [
    "Valores que toman las tablas y resumen de estas."
   ]
  },
  {
   "cell_type": "code",
   "execution_count": 169,
   "metadata": {},
   "outputs": [
    {
     "name": "stdout",
     "output_type": "stream",
     "text": [
      "+-------+-----------------+------------------+--------------------+-----------------+\n",
      "|summary|         Cantidad|         ClienteID|    FechaTransaccion|      ProveedorID|\n",
      "+-------+-----------------+------------------+--------------------+-----------------+\n",
      "|  count|           204292|            204292|              204292|           204292|\n",
      "|   mean|719.4997650421946| 517.3252941867523|                null|4.951898734177215|\n",
      "| stddev| 4729.36659747762|353.50136995999276|                null|1.406311225432683|\n",
      "|    min|           -360.0|               0.0|2013-12-31 07:00:...|                 |\n",
      "|    25%|            -60.0|             145.0|                null|              4.0|\n",
      "|    50%|             -9.0|             511.0|                null|              4.0|\n",
      "|    75%|             -5.0|             877.0|                null|              7.0|\n",
      "|    max|          67368.0|            1061.0|         Sep 30,2015|              7.0|\n",
      "+-------+-----------------+------------------+--------------------+-----------------+\n",
      "\n"
     ]
    }
   ],
   "source": [
    "movimientos_c.select(\"Cantidad\", \"ClienteID\", \"FechaTransaccion\", \"ProveedorID\").summary().show()"
   ]
  },
  {
   "cell_type": "code",
   "execution_count": 190,
   "metadata": {},
   "outputs": [
    {
     "name": "stdout",
     "output_type": "stream",
     "text": [
      "+-------+---------------------+------------------+-------------------+-----------------+------------------+\n",
      "|summary|TransaccionProductoID|        ProductoID|  TipoTransaccionID|        InvoiceID|   OrdenDeCompraID|\n",
      "+-------+---------------------+------------------+-------------------+-----------------+------------------+\n",
      "|  count|               204292|            204292|             204292|           204292|            204292|\n",
      "|   mean|   212458.04047637695|110.70090850351458| 10.035253460732676|42957.26929590978|1345.9973277074544|\n",
      "| stddev|    71352.37579752573| 63.49014746219581|0.18563716955046372| 16826.9772221931|420.37740964792835|\n",
      "|    min|                89146|                 1|                 10|              0.0|                  |\n",
      "|    25%|               150639|                56|                 10|          30120.0|             986.0|\n",
      "|    50%|               212323|               110|                 10|          43546.0|            1347.0|\n",
      "|    75%|               274216|               166|                 10|          56983.0|            1710.0|\n",
      "|    max|               336251|               227|                 12|          70510.0|             999.0|\n",
      "+-------+---------------------+------------------+-------------------+-----------------+------------------+\n",
      "\n"
     ]
    }
   ],
   "source": [
    "movimientos_c.select(\"TransaccionProductoID\", \"ProductoID\", \"TipoTransaccionID\", \"InvoiceID\",\"OrdenDeCompraID\").summary().show()"
   ]
  },
  {
   "cell_type": "markdown",
   "metadata": {},
   "source": [
    "fecha minima de transacciones"
   ]
  },
  {
   "cell_type": "code",
   "execution_count": 171,
   "metadata": {},
   "outputs": [
    {
     "name": "stdout",
     "output_type": "stream",
     "text": [
      "+---------------------+\n",
      "|min(FechaTransaccion)|\n",
      "+---------------------+\n",
      "| 2013-12-31 07:00:...|\n",
      "+---------------------+\n",
      "\n"
     ]
    }
   ],
   "source": [
    "movimientos_c.agg({\"FechaTransaccion\": \"min\"}).show()"
   ]
  },
  {
   "cell_type": "code",
   "execution_count": 172,
   "metadata": {},
   "outputs": [
    {
     "name": "stdout",
     "output_type": "stream",
     "text": [
      "Número total de movimientos : 204292, número de ordenes con formato correcto: 140038\n",
      "Registros con formato incorrecto 64254\n"
     ]
    }
   ],
   "source": [
    "cumplenFormato_mov = movimientos_c.filter(movimientos_c[\"FechaTransaccion\"].rlike(regex))\n",
    "print(\"Número total de movimientos : \"+str(movimientos_c.count())+\", número de ordenes con formato correcto: \"+str(cumplenFormato_mov.count()))\n",
    "print(\"Registros con formato incorrecto\", movimientos_c.count() - cumplenFormato_mov.count())"
   ]
  },
  {
   "cell_type": "code",
   "execution_count": 173,
   "metadata": {},
   "outputs": [
    {
     "name": "stdout",
     "output_type": "stream",
     "text": [
      "+-----------+------+\n",
      "|ProveedorID| count|\n",
      "+-----------+------+\n",
      "|           |197182|\n",
      "|        4.0|  4832|\n",
      "|        7.0|  2267|\n",
      "|        1.0|    11|\n",
      "+-----------+------+\n",
      "\n"
     ]
    }
   ],
   "source": [
    "cantidad_productores = movimientos_c.groupby(\"ProveedorID\").count().orderBy(\"count\", ascending=False)\n",
    "cantidad_productores.show()"
   ]
  },
  {
   "cell_type": "markdown",
   "metadata": {
    "id": "-axExLnhPn3g"
   },
   "source": [
    "### Análisis de calidad de datos"
   ]
  },
  {
   "cell_type": "markdown",
   "metadata": {},
   "source": [
    "#### Completitud\n",
    "\n",
    "Por columna en orden ascendiente para revisar si hay datos faltantes."
   ]
  },
  {
   "cell_type": "code",
   "execution_count": 174,
   "metadata": {
    "id": "-sUZP8wjPn3g"
   },
   "outputs": [
    {
     "name": "stdout",
     "output_type": "stream",
     "text": [
      "+-----------+------+\n",
      "|ProveedorID| count|\n",
      "+-----------+------+\n",
      "|           |197182|\n",
      "|        4.0|  4832|\n",
      "|        7.0|  2267|\n",
      "|        1.0|    11|\n",
      "+-----------+------+\n",
      "\n",
      "+--------+-----+\n",
      "|Cantidad|count|\n",
      "+--------+-----+\n",
      "|   -10.0|13563|\n",
      "|    -5.0|11128|\n",
      "|    -8.0|11072|\n",
      "|    -7.0|11034|\n",
      "|    -2.0|11022|\n",
      "|    -1.0|10939|\n",
      "|    -3.0|10854|\n",
      "|    -6.0|10737|\n",
      "|    -9.0|10679|\n",
      "|    -4.0|10615|\n",
      "|   -60.0| 6565|\n",
      "|   -48.0| 4763|\n",
      "|   -72.0| 4711|\n",
      "|   -24.0| 4694|\n",
      "|   -96.0| 4457|\n",
      "|  -120.0| 4249|\n",
      "|   -50.0| 4021|\n",
      "|  -100.0| 3880|\n",
      "|   -36.0| 3871|\n",
      "|   -12.0| 3682|\n",
      "+--------+-----+\n",
      "only showing top 20 rows\n",
      "\n",
      "+--------------------+-----+\n",
      "|    FechaTransaccion|count|\n",
      "+--------------------+-----+\n",
      "|2015-11-03 12:00:...|  331|\n",
      "|2015-01-21 12:00:...|  326|\n",
      "|2015-04-14 12:00:...|  323|\n",
      "|2016-05-04 12:00:...|  323|\n",
      "|2015-10-06 12:00:...|  317|\n",
      "|2016-03-23 12:00:...|  314|\n",
      "|2015-11-24 12:00:...|  309|\n",
      "|2016-02-24 12:00:...|  307|\n",
      "|2016-02-26 12:00:...|  304|\n",
      "|2016-03-22 12:00:...|  304|\n",
      "|2015-10-19 12:00:...|  303|\n",
      "|2016-04-18 12:00:...|  302|\n",
      "|2015-02-23 12:00:...|  301|\n",
      "|2015-04-21 12:00:...|  300|\n",
      "|2015-02-27 12:00:...|  299|\n",
      "|2015-07-02 12:00:...|  298|\n",
      "|2016-05-19 12:00:...|  297|\n",
      "|2015-03-11 12:00:...|  297|\n",
      "|2016-05-13 12:00:...|  296|\n",
      "|2016-01-06 12:00:...|  296|\n",
      "+--------------------+-----+\n",
      "only showing top 20 rows\n",
      "\n",
      "+---------+-----+\n",
      "|ClienteID|count|\n",
      "+---------+-----+\n",
      "|      0.0| 7156|\n",
      "|    980.0|  409|\n",
      "|    810.0|  401|\n",
      "|    804.0|  395|\n",
      "|    954.0|  395|\n",
      "|    149.0|  395|\n",
      "|    185.0|  391|\n",
      "|    953.0|  389|\n",
      "|    558.0|  385|\n",
      "|    438.0|  385|\n",
      "|    569.0|  385|\n",
      "|    118.0|  384|\n",
      "|   1011.0|  379|\n",
      "|    546.0|  378|\n",
      "|    820.0|  377|\n",
      "|    545.0|  377|\n",
      "|    593.0|  377|\n",
      "|     70.0|  376|\n",
      "|    195.0|  375|\n",
      "|     14.0|  374|\n",
      "+---------+-----+\n",
      "only showing top 20 rows\n",
      "\n",
      "+---------------------+-----+\n",
      "|TransaccionProductoID|count|\n",
      "+---------------------+-----+\n",
      "|               197953|    2|\n",
      "|               155510|    2|\n",
      "|               101055|    2|\n",
      "|               309597|    2|\n",
      "|               209326|    2|\n",
      "|               213516|    2|\n",
      "|               262183|    2|\n",
      "|               317340|    2|\n",
      "|               323250|    2|\n",
      "|               105665|    2|\n",
      "|               246097|    2|\n",
      "|               282680|    2|\n",
      "|               200379|    2|\n",
      "|               225359|    2|\n",
      "|               141299|    2|\n",
      "|               250485|    2|\n",
      "|               265863|    2|\n",
      "|               251316|    2|\n",
      "|               231502|    2|\n",
      "|               160009|    2|\n",
      "+---------------------+-----+\n",
      "only showing top 20 rows\n",
      "\n",
      "+----------+-----+\n",
      "|ProductoID|count|\n",
      "+----------+-----+\n",
      "|        80| 1488|\n",
      "|        95| 1477|\n",
      "|       184| 1339|\n",
      "|        86| 1318|\n",
      "|       193| 1312|\n",
      "|       204| 1307|\n",
      "|        77| 1300|\n",
      "|        78| 1296|\n",
      "|        98| 1272|\n",
      "|        13|  986|\n",
      "|        84|  982|\n",
      "|       214|  979|\n",
      "|       104|  974|\n",
      "|       120|  971|\n",
      "|        91|  965|\n",
      "|        35|  963|\n",
      "|       200|  962|\n",
      "|       209|  960|\n",
      "|       167|  960|\n",
      "|        74|  959|\n",
      "+----------+-----+\n",
      "only showing top 20 rows\n",
      "\n",
      "+-----------------+------+\n",
      "|TipoTransaccionID| count|\n",
      "+-----------------+------+\n",
      "|               10|197136|\n",
      "|               11|  7110|\n",
      "|               12|    46|\n",
      "+-----------------+------+\n",
      "\n",
      "+---------+-----+\n",
      "|InvoiceID|count|\n",
      "+---------+-----+\n",
      "|      0.0| 7156|\n",
      "|  57830.0|    9|\n",
      "|  37097.0|    9|\n",
      "|  47706.0|    9|\n",
      "|  51395.0|    9|\n",
      "|  20518.0|    9|\n",
      "|  46946.0|    9|\n",
      "|  19301.0|    9|\n",
      "|  63007.0|    9|\n",
      "|  37692.0|    9|\n",
      "|  26236.0|    9|\n",
      "|  29667.0|    9|\n",
      "|  58883.0|    9|\n",
      "|  44448.0|    9|\n",
      "|  57743.0|    9|\n",
      "|  41681.0|    9|\n",
      "|  47385.0|    9|\n",
      "|  23606.0|    9|\n",
      "|  34903.0|    9|\n",
      "|  51451.0|    9|\n",
      "+---------+-----+\n",
      "only showing top 20 rows\n",
      "\n",
      "+---------------+------+\n",
      "|OrdenDeCompraID| count|\n",
      "+---------------+------+\n",
      "|               |197182|\n",
      "|          829.0|    11|\n",
      "|         1498.0|    10|\n",
      "|         1313.0|    10|\n",
      "|         1579.0|    10|\n",
      "|         1186.0|    10|\n",
      "|         1237.0|    10|\n",
      "|          890.0|     9|\n",
      "|         1375.0|     9|\n",
      "|         1500.0|     9|\n",
      "|          927.0|     9|\n",
      "|         1363.0|     9|\n",
      "|         1606.0|     9|\n",
      "|         1043.0|     9|\n",
      "|         1028.0|     9|\n",
      "|          778.0|     9|\n",
      "|          931.0|     9|\n",
      "|         1558.0|     9|\n",
      "|         2048.0|     9|\n",
      "|         1542.0|     9|\n",
      "+---------------+------+\n",
      "only showing top 20 rows\n",
      "\n"
     ]
    }
   ],
   "source": [
    "movimientos_c.groupby(\"ProveedorID\").count().orderBy(\"count\", ascending=False).show()\n",
    "movimientos_c.groupby(\"Cantidad\").count().orderBy(\"count\", ascending=False).show()\n",
    "movimientos_c.groupby(\"FechaTransaccion\").count().orderBy(\"count\", ascending=False).show()\n",
    "movimientos_c.groupby(\"ClienteID\").count().orderBy(\"count\", ascending=False).show()\n",
    "movimientos_c.groupby(\"TransaccionProductoID\").count().orderBy(\"count\", ascending=False).show()\n",
    "movimientos_c.groupby(\"ProductoID\").count().orderBy(\"count\", ascending=False).show()\n",
    "movimientos_c.groupby(\"TipoTransaccionID\").count().orderBy(\"count\", ascending=False).show()\n",
    "movimientos_c.groupby(\"InvoiceID\").count().orderBy(\"count\", ascending=False).show()\n",
    "movimientos_c.groupby(\"OrdenDeCompraID\").count().orderBy(\"count\", ascending=False).show()\n"
   ]
  },
  {
   "cell_type": "markdown",
   "metadata": {},
   "source": [
    "Por columna se revisa la cantidad de nulos:"
   ]
  },
  {
   "cell_type": "code",
   "execution_count": 175,
   "metadata": {},
   "outputs": [
    {
     "name": "stdout",
     "output_type": "stream",
     "text": [
      "0\n",
      "0\n",
      "0\n",
      "0\n",
      "0\n",
      "0\n",
      "0\n",
      "0\n",
      "0\n"
     ]
    }
   ],
   "source": [
    "print(movimientos_c.filter(movimientos_c[\"ProveedorID\"].isNull()).count())\n",
    "print(movimientos_c.filter(movimientos_c[\"Cantidad\"].isNull()).count())\n",
    "print(movimientos_c.filter(movimientos_c[\"FechaTransaccion\"].isNull()).count())\n",
    "print(movimientos_c.filter(movimientos_c[\"ClienteID\"].isNull()).count())\n",
    "print(movimientos_c.filter(movimientos_c[\"TransaccionProductoID\"].isNull()).count())\n",
    "print(movimientos_c.filter(movimientos_c[\"ProductoID\"].isNull()).count())\n",
    "print(movimientos_c.filter(movimientos_c[\"TipoTransaccionID\"].isNull()).count())\n",
    "print(movimientos_c.filter(movimientos_c[\"InvoiceID\"].isNull()).count())\n",
    "print(movimientos_c.filter(movimientos_c[\"OrdenDeCompraID\"].isNull()).count())\n"
   ]
  },
  {
   "cell_type": "markdown",
   "metadata": {},
   "source": [
    "Calculo de completitud por columna :"
   ]
  },
  {
   "cell_type": "code",
   "execution_count": 176,
   "metadata": {},
   "outputs": [
    {
     "name": "stdout",
     "output_type": "stream",
     "text": [
      "Completitud de ProveedorID  3.48031249388131\n",
      "Completitud de FechaTransaccion  100.0\n",
      "Completitud de Cantidad  100.0\n",
      "Completitud de ClienteID  100.0\n",
      "Completitud de TransaccionProductoID  100.0\n",
      "Completitud de ProductoID  100.0\n",
      "Completitud de TipoTransaccionID  100.0\n",
      "Completitud de InvoiceID  96.4971707164255\n",
      "Completitud de OrdenDeCompraID  3.48031249388131\n"
     ]
    }
   ],
   "source": [
    "print(\"Completitud de ProveedorID \",(1-movimientos_c.select().where(col('ProveedorID')==\"\").count()/movimientos_c.select().count())*100)\n",
    "print(\"Completitud de FechaTransaccion \",(1-movimientos_c.select().where(col('FechaTransaccion')==\"\").count()/movimientos_c.select().count())*100)\n",
    "print(\"Completitud de Cantidad \",(1-movimientos_c.select().where(col('Cantidad')==\"\").count()/movimientos_c.select().count())*100)\n",
    "print(\"Completitud de ClienteID \",(1-movimientos_c.select().where(col('ClienteID')==\"\").count()/movimientos_c.select().count())*100)\n",
    "print(\"Completitud de TransaccionProductoID \",(1-movimientos_c.select().where(col('TransaccionProductoID')==\"\").count()/movimientos_c.select().count())*100)\n",
    "print(\"Completitud de ProductoID \",(1-movimientos_c.select().where(col('ProductoID')==\"\").count()/movimientos_c.select().count())*100)\n",
    "print(\"Completitud de TipoTransaccionID \",(1-movimientos_c.select().where(col('TipoTransaccionID')==\"\").count()/movimientos_c.select().count())*100)\n",
    "print(\"Completitud de InvoiceID \",(1-movimientos_c.select().where(col('InvoiceID')==0.0).count()/movimientos_c.select().count())*100)\n",
    "print(\"Completitud de OrdenDeCompraID \",(1-movimientos_c.select().where(col('OrdenDeCompraID')==\"\").count()/movimientos_c.select().count())*100)"
   ]
  },
  {
   "cell_type": "markdown",
   "metadata": {},
   "source": [
    "#### Unicidad\n",
    "\n",
    "Se ha hecho un conteo distintivo para todas la columnas excepto la llave primaria y se ha hecho un conteo distintivo para todas las columnas sin incluir la llave primaria."
   ]
  },
  {
   "cell_type": "code",
   "execution_count": 118,
   "metadata": {},
   "outputs": [
    {
     "name": "stdout",
     "output_type": "stream",
     "text": [
      "Movimientos unicos (sin pk): 173659\n",
      "Movimientos unicos: 173659\n"
     ]
    }
   ],
   "source": [
    "print(\"Movimientos unicos (sin pk):\",movimientos_c.select([\"ProductoID\",\"TipoTransaccionID\",\"ProveedorID\",\"InvoiceID\",\"Cantidad\",\"FechaTransaccion\", \"ClienteID\", \"OrdenDeCompraID\"]).distinct().count())\n",
    "print(\"Movimientos unicos:\",movimientos_c.select([\"TransaccionProductoID\",\"ProductoID\",\"TipoTransaccionID\",\"ProveedorID\",\"InvoiceID\",\"Cantidad\",\"FechaTransaccion\", \"ClienteID\", \"OrdenDeCompraID\"]).distinct().count())"
   ]
  },
  {
   "cell_type": "code",
   "execution_count": 177,
   "metadata": {},
   "outputs": [
    {
     "name": "stdout",
     "output_type": "stream",
     "text": [
      "Porcentaje de registros únicos 85.00528655062361\n"
     ]
    }
   ],
   "source": [
    "print(\"Porcentaje de registros únicos\",(movimientos_c.select([\"TransaccionProductoID\",\"ProductoID\",\"TipoTransaccionID\",\"ProveedorID\",\"InvoiceID\",\"Cantidad\",\"FechaTransaccion\", \"ClienteID\", \"OrdenDeCompraID\"]).distinct().count()/movimientos_c.select().count())*100)"
   ]
  },
  {
   "cell_type": "code",
   "execution_count": 119,
   "metadata": {},
   "outputs": [
    {
     "name": "stdout",
     "output_type": "stream",
     "text": [
      "Total elementos que son duplicados: 30633\n"
     ]
    }
   ],
   "source": [
    "print(\"Total elementos que son duplicados:\", movimientos_c.select().count()- movimientos_c.select([\"TransaccionProductoID\",\"ProductoID\",\"TipoTransaccionID\",\"ProveedorID\",\"InvoiceID\",\"Cantidad\",\"FechaTransaccion\", \"ClienteID\", \"OrdenDeCompraID\"]).distinct().count())"
   ]
  },
  {
   "cell_type": "markdown",
   "metadata": {},
   "source": [
    "#### Validez\n",
    "Se hace la revisión a cada columna con un boxplot para evidenciar si hay datos fuera de lo común\n"
   ]
  },
  {
   "cell_type": "code",
   "execution_count": 189,
   "metadata": {},
   "outputs": [
    {
     "data": {
      "text/plain": [
       "{'whiskers': [<matplotlib.lines.Line2D at 0x1f6a67e6488>,\n",
       "  <matplotlib.lines.Line2D at 0x1f74ff2f448>],\n",
       " 'caps': [<matplotlib.lines.Line2D at 0x1f74ff2f608>,\n",
       "  <matplotlib.lines.Line2D at 0x1f74b33d288>],\n",
       " 'boxes': [<matplotlib.lines.Line2D at 0x1f6a67e6cc8>],\n",
       " 'medians': [<matplotlib.lines.Line2D at 0x1f6a5b5f308>],\n",
       " 'fliers': [<matplotlib.lines.Line2D at 0x1f6a5b5f948>],\n",
       " 'means': []}"
      ]
     },
     "execution_count": 189,
     "metadata": {},
     "output_type": "execute_result"
    },
    {
     "data": {
      "image/png": "[encoded data removed]",
      "text/plain": [
       "<Figure size 432x288 with 6 Axes>"
      ]
     },
     "metadata": {
      "needs_background": "light"
     },
     "output_type": "display_data"
    }
   ],
   "source": [
    "fig1, ax1 = plt.subplots(2,3)\n",
    "\n",
    "ax1[0,0].set_title('ClienteID')\n",
    "ax1[0,0].boxplot(np.array(movimientos_c.select('ClienteID').collect()))\n",
    "ax1[0,1].set_title('TransaccionProductoID')\n",
    "ax1[0,1].boxplot(np.array(movimientos_c.select('TransaccionProductoID').collect()))\n",
    "ax1[0,2].set_title('ProductoID')\n",
    "ax1[0,2].boxplot(np.array(movimientos_c.select('ProductoID').collect()))\n",
    "ax1[1,0].set_title('TipoTransaccionID')\n",
    "ax1[1,0].boxplot(np.array(movimientos_c.select('TipoTransaccionID').collect()))\n",
    "ax1[1,1].set_title('InvoiceID')\n",
    "ax1[1,1].boxplot(np.array(movimientos_c.select('InvoiceID').collect()))\n",
    "ax1[1,2].set_title('Cantidad')\n",
    "ax1[1,2].boxplot(np.array(movimientos_c.select('Cantidad').collect()))"
   ]
  },
  {
   "cell_type": "code",
   "execution_count": 191,
   "metadata": {},
   "outputs": [
    {
     "name": "stderr",
     "output_type": "stream",
     "text": [
      "Summarize dataset:  60%|██████    | 12/20 [00:02<00:01,  7.54it/s, Calculate kendall correlation]         C:\\Users\\estudiante\\anaconda3\\envs\\Tutoriales\\lib\\site-packages\\scipy\\stats\\stats.py:4812: RuntimeWarning: overflow encountered in longlong_scalars\n",
      "  (2 * xtie * ytie) / m + x0 * y0 / (9 * m * (size - 2)))\n",
      "Summarize dataset: 100%|██████████| 47/47 [00:15<00:00,  3.04it/s, Completed]                                           \n",
      "Generate report structure: 100%|██████████| 1/1 [00:03<00:00,  3.30s/it]\n",
      "Render HTML: 100%|██████████| 1/1 [00:01<00:00,  1.21s/it]\n",
      "Export report to file: 100%|██████████| 1/1 [00:00<00:00, 74.69it/s]\n"
     ]
    }
   ],
   "source": [
    "reporte = ProfileReport(movimientos_c.toPandas())\n",
    "reporte.to_file(PATH+\"reporte_prefilamiento_movimientos.html\")"
   ]
  },
  {
   "cell_type": "markdown",
   "metadata": {},
   "source": [
    "#### Consistencia\n",
    "- verificación de llaves secundarias\n",
    "- verificación de fechas deberian no ser futuras, no nulas ni vacias.\n"
   ]
  },
  {
   "cell_type": "code",
   "execution_count": 192,
   "metadata": {},
   "outputs": [],
   "source": [
    "sql_producto = 'WWImportersTransactional.Producto'\n",
    "sql_tipoTransaccion = 'WWImportersTransactional.TiposTransaccion'\n",
    "sql_clientes = 'WWImportersTransactional.Clientes'\n",
    "sql_proveedoresCopia = 'WWImportersTransactional.proveedoresCopia'\n",
    "sql_OrdenesCopia= 'WWImportersTransactional.OrdenesCopia'\n",
    "\n",
    "productos = obtener_dataframe_de_bd(db_connection_string, sql_producto, db_user, db_psswd)\n",
    "tipoTransaccion = obtener_dataframe_de_bd(db_connection_string, sql_tipoTransaccion, db_user, db_psswd)\n",
    "clientes = obtener_dataframe_de_bd(db_connection_string, sql_clientes, db_user, db_psswd)\n",
    "proveedores = obtener_dataframe_de_bd(db_connection_string, sql_proveedoresCopia, db_user, db_psswd)\n",
    "ordenes_ = obtener_dataframe_de_bd(db_connection_string, sql_OrdenesCopia, db_user, db_psswd)\n"
   ]
  },
  {
   "cell_type": "code",
   "execution_count": 194,
   "metadata": {},
   "outputs": [
    {
     "name": "stdout",
     "output_type": "stream",
     "text": [
      "ProductoID faltantes: 0\n",
      "TipoTransaccionID faltantes: 0\n",
      "ClienteID faltantes: 7156\n",
      "ProveedorID faltantes: 197182\n",
      "OrdenDeCompraID faltantes: 204292\n"
     ]
    }
   ],
   "source": [
    "producto_faltante_count = movimientos_c.join(productos, movimientos_c.ProductoID == productos.ID_Producto, \"left_anti\").count()\n",
    "print(f\"ProductoID faltantes: {producto_faltante_count}\")\n",
    "\n",
    "tipo_transaccion_faltante_count = movimientos_c.join(tipoTransaccion, movimientos_c.TipoTransaccionID == tipoTransaccion.TipoTransaccionID, \"left_anti\").count()\n",
    "print(f\"TipoTransaccionID faltantes: {tipo_transaccion_faltante_count}\")\n",
    "\n",
    "cliente_faltante_count = movimientos_c.join(clientes, movimientos_c.ClienteID == clientes.ID_Cliente, \"left_anti\").count()\n",
    "print(f\"ClienteID faltantes: {cliente_faltante_count}\")\n",
    "\n",
    "proveedor_faltante_count = movimientos_c.join(proveedores, movimientos_c.ProveedorID == proveedores.ProveedorID, \"left_anti\").count()\n",
    "print(f\"ProveedorID faltantes: {proveedor_faltante_count}\")\n",
    "\n",
    "orden_compra_faltante_count = movimientos_c.join(ordenes_, movimientos_c.OrdenDeCompraID == ordenes_.ID_de_pedido, \"left_anti\").count()\n",
    "print(f\"OrdenDeCompraID faltantes: {orden_compra_faltante_count}\")\n"
   ]
  },
  {
   "cell_type": "markdown",
   "metadata": {},
   "source": [
    "- verificación de fechas deberian no ser futuras, no nulas ni vacias."
   ]
  },
  {
   "cell_type": "code",
   "execution_count": 198,
   "metadata": {},
   "outputs": [
    {
     "data": {
      "text/plain": [
       "0"
      ]
     },
     "execution_count": 198,
     "metadata": {},
     "output_type": "execute_result"
    }
   ],
   "source": [
    "from pyspark.sql.functions import current_date\n",
    "movimientos_c.filter((col(\"FechaTransaccion\").isNull()) |( col(\"FechaTransaccion\") ==\"\") | (col(\"FechaTransaccion\") > current_date())).count()\n"
   ]
  },
  {
   "cell_type": "markdown",
   "metadata": {},
   "source": [
    "- movimientos de 0 productos \n",
    "- movimiento de elementos negativos\n",
    "- movimiento de elementos positos"
   ]
  },
  {
   "cell_type": "code",
   "execution_count": 200,
   "metadata": {},
   "outputs": [
    {
     "data": {
      "text/plain": [
       "197158"
      ]
     },
     "execution_count": 200,
     "metadata": {},
     "output_type": "execute_result"
    }
   ],
   "source": [
    "movimientos_c.filter(col(\"Cantidad\") < 0).count()\n"
   ]
  },
  {
   "cell_type": "code",
   "execution_count": 201,
   "metadata": {},
   "outputs": [
    {
     "data": {
      "text/plain": [
       "7129"
      ]
     },
     "execution_count": 201,
     "metadata": {},
     "output_type": "execute_result"
    }
   ],
   "source": [
    "movimientos_c.filter(col(\"Cantidad\") >0).count()\n"
   ]
  },
  {
   "cell_type": "code",
   "execution_count": 202,
   "metadata": {},
   "outputs": [
    {
     "data": {
      "text/plain": [
       "5"
      ]
     },
     "execution_count": 202,
     "metadata": {},
     "output_type": "execute_result"
    }
   ],
   "source": [
    "movimientos_c.filter(col(\"Cantidad\") ==0).count()\n"
   ]
  },
  {
   "cell_type": "markdown",
   "metadata": {
    "id": "YfSMeXZQPn3g"
   },
   "source": [
    "### Conclusiones"
   ]
  },
  {
   "attachments": {
    "image-2.png": {
     "image/png": "[encoded data removed]"
    },
    "image-3.png": {
     "image/png": "[encoded data removed]"
    },
    "image-4.png": {
     "image/png": "[encoded data removed]"
    },
    "image-5.png": {
     "image/png": "[encoded data removed]"
    },
    "image-6.png": {
     "image/png": "[encoded data removed]"
    },
    "image-7.png": {
     "image/png": "[encoded data removed]"
    },
    "image.png": {
     "image/png": "[encoded data removed]"
    }
   },
   "cell_type": "markdown",
   "metadata": {
    "id": "iLIyH36rPn3g"
   },
   "source": [
    "#### *conclusiones y Acalaraciones de entendimiento general de los datos:*\n",
    "\n",
    "1. En la tabla MovimientosCopia se presentan las siguientes columnas: identificador del producto, producto, tipo de transacción, cliente, invoice (identificador de la factura), proveedor, orden de compra, fecha de la transacción y cantidad.\n",
    "2. Una fila representa la acción de mover cierta cantidad de productos (ingresados/retirados) del inventario en una fecha específica, teniendo en cuenta todos los detalles asociados al producto, como el cliente, la factura, el producto, el tipo de transacción, la orden de compra y el proveedor.\n",
    "3. Se tienen 6 columnas numéricas, de las cuales 3 son enteros y 3 son booleanos, y hay otras 3 columnas que corresponden a cadenas de texto (strings). Una de los Strings corresponde a una fecha.\n",
    "4. Los datos proporcionados corresponden a 204,292 movimientos.\n",
    "5. ¿A qué tabla corresponde la llave foránea InvoiceID? En el diccionario de datos no se encuentra ninguna tabla con ese nombre ni con un nombre similar a \"factura\".\n",
    "6. ¿La fecha de transacción es igual a la fecha de la orden de compra o de la factura, o es una fecha completamente diferente que se refiere a un proceso interno de manejo de inventario?\n",
    "\n",
    "\n",
    "\n",
    "#### *Conclusiones de reglas de negocio:*\n",
    "\n",
    "1. La regla 1 se cumple, ya que el negocio establece que la cantidad máxima de productos a ser movidos es de 50 millones. Según el resumen mostrado en la Imagen 1, la cantidad máxima es de 367,368, lo cual está por debajo de los 50 millones.\n",
    "\n",
    "2. En base a la columna de cantidades, surge una duda: se puede notar que el valor mínimo es un número negativo de -360, y el percentil 50 tiene un valor de -9. Esto indica que hay números negativos dentro de esta columna. ¿Qué significan los números negativos? ¿Hacen referencia al retiro de inventario?¿ A que hace referencia una cantidad de 0?¿ por que existe esos registros ?\n",
    "\n",
    "![image.png](attachment:image.png)\n",
    "<p style=\"text-align: center;\">Imagen 1</p>\n",
    "\n",
    "3. El negocio nos informa que hay 236,668 movimientos de producto realizados desde 2013. Sin embargo, esto no parece correcto según los datos con los que estamos trabajando. A nivel general, solo contamos con 204,292 registros, de los cuales la fecha más lejana es del 31/12/2023, como se muestra en la Imagen 1. ¿Es posible que nos falten datos?\n",
    "\n",
    "4. El negocio nos dice que los movimientos están relacionados con 228,265 clientes. Sin embargo, al revisar los datos proporcionados, podemos notar que solo tenemos movimientos para 664 clientes diferentes. ¿Es posible que nos falten datos?\n",
    "\n",
    "5. Algunos formatos de fecha no coinciden con la regla 4, que establece que deben estar en el formato: YYYY-MM-DD HH:MM. Se puede evidenciar que hay 64,254 registros que no cumplen con este formato, pues hay fechas como \"Apr 25, 2014\" y \"2013-12-31 07:00\". Se propone cambiar el formato de aquellos que no tienen el formato establecido por el negocio.\n",
    "\n",
    "6. Se menciona que se cuenta con 13 proveedores. Sin embargo, al realizar el conteo distintivo de los proveedores, podemos evidenciar que en los movimientos contamos únicamente con 4. En base a esto, surge la duda de si hay registros faltantes relacionados con los otros 9 proveedores, como se puede visualizar en la Imagen 2.\n",
    "\n",
    "![image-2.png](attachment:image-2.png)\n",
    "<p style=\"text-align: center;\">Imagen 2</p>\n",
    "\n",
    "\n",
    "7. En base al diagrama de correlación se podría considerar eliminar InvoiceID pues este tiene una muy alta correlación casi de 1  con la columna TransactionProductId el cual es llave primaria de los registros como se puede evidenciar en la imagen 3. En base a esto se hace la pregunta: ¿Es posible eliminar la columna InvoiceID?\n",
    "\n",
    "\n",
    "![image-6.png](attachment:image-6.png)\n",
    "<p style=\"text-align: center;\">Imagen 3</p>\n",
    "\n",
    "\n",
    "#### *Conclusiones de calidad:*\n",
    "\n",
    "#### *Completitud:*\n",
    "\n",
    "En cuanto a la completitud, se puede decir que hay problemas, ya que hay ciertas columnas a las que les faltan datos. Entre ellas se encuentran:\n",
    "\n",
    "1. 197,182 datos vacíos en el atributo OrdenDeCompraID.\n",
    "2. 7,156 datos con la misma factura de 0.0. Esto nos genera dudas sobre si la factura 0.0 existe. En este caso, la completitud de esta columna sería del...\n",
    "3. 7,156 registros asociados al cliente 0.0. Esto genera la pregunta de si el cliente 0.0 es un cliente válido.\n",
    "4. 19,718 registros con un proveedor vacío.\n",
    "En general, se puede decir que la completitud es:\n",
    "\n",
    "- Completitud de ProveedorID: 3.48%\n",
    "- Completitud de FechaTransaccion: 100.0%\n",
    "- Completitud de Cantidad: 100.0%\n",
    "- Completitud de ClienteID: 100.0%\n",
    "- Completitud de TransaccionProductoID: 100.0%\n",
    "- Completitud de ProductoID: 100.0%\n",
    "- Completitud de TipoTransaccionID: 100.0%\n",
    "- Completitud de InvoiceID: 96.50%\n",
    "- Completitud de OrdenDeCompraID: 3.48%\n",
    "\n",
    "\n",
    "En base en lo anterior, la pregunta sería al negocio si hay alguna forma de proveer los datos faltantes.\n",
    "\n",
    "#### *Unicidad:*\n",
    "Se hizo una revisión de aquellos registros en los que la mayoría de atributos, excluyendo la llave primaria, son únicos. Se ha notado que un 85% de los registros son únicos, lo cual equivale a 173,659 registros. Por otro lado, 30,633 registros no son únicos.\n",
    "\n",
    "Basándonos en la imagen 4, podemos notar ciertas inconsistencias, ya que la llave primaria de ciertos registros está duplicada, lo cual no debería ocurrir.\n",
    "\n",
    "![image-3.png](attachment:image-3.png)\n",
    "<p style=\"text-align: center;\">Imagen 4</p>\n",
    "\n",
    "Con base en lo anterior, se recomienda:\n",
    "\n",
    "- Revisar las reglas dentro de la tabla en cuanto a la llave primaria.\n",
    "- Proponer borrar o eliminar todos esos registros, que corresponden al 15% del total de registros.\n",
    "\n",
    "\n",
    "\n",
    "\n",
    "#### *Validez:*\n",
    "Se evidencian inconsistencias semánticas en cuanto a la estructura, ya que la fecha no es consistente para todos los registros. Como se ha mencionado antes, hay 64,254 datos que no cumplen con la estructura establecida.\n",
    "\n",
    "Asimismo, podemos observar que hay valores negativos en la columna de cantidad. En caso de no tener un significado concreto, los valores negativos en cantidad indicarían un problema grave en términos de consistencia. A través de la imagen 5, podemos ver que estos podrían ser los valores inválidos, por lo que es importante determinar si es correcto tener valores negativos en esta columna.\n",
    "\n",
    "\n",
    "![image-4.png](attachment:image-4.png)\n",
    "\n",
    "\n",
    "<p style=\"text-align: center;\">Imagen 5</p>\n",
    "#### Consistencia\n",
    "- Se evidencia que al validar las llaves foraneas con las otras tablas hay problemas y coincide con el número de de nulos. Esto es epacialmente evidente en las columnas ClienteID, ProveedorID y OrdenDeCompraID como se puede evidenciar en la imagen 6. En base a esto se plantea la pregunta: ¿Hay forma de obtener estos datos faltantes? ¿ Se podría clasificar a los clientes sin llave foranea como clientes anonimos? ¿ Los proveedores sin referencia a la tabla de proveedores tienen algún significado? ¿Los registros sin ordenes de compra asociado a la tabla de orden tienen algún significado?\n",
    "\n",
    "- En cuanto a la columna con fechas se puede evidenciar que si hay consistencia en cuanto a los valores que toman las fechas (No son valores futuros). Más sin embargo no cuentan con un formato consistente como se ha mencionado en la etapa de validez.\n",
    "- En cuanto a la columna con el nombre \"cantidad\" se evidencia valores negativos e iguales a 0. Lo cual genera dudas que se han expresado desde el inicio: ¿Qué signfica estos valores? ¿son correctos valores nulos o negativos?\n",
    "\n",
    "![image-7.png](attachment:image-7.png)\n",
    "<p style=\"text-align: center;\">Imagen 7</p>\n",
    "\n",
    "\n",
    "#### Conclusión\n",
    "\n",
    "**Conclusiones de consultoria**\n",
    "\n",
    "![image-5.png](attachment:image-5.png)\n",
    "<p style=\"text-align: center;\">Imagen 8</p>\n",
    "\n",
    "\n",
    "Considerando el requerimiento que aparece en la Imagen 5, debido a los problemas de calidad con valores duplicados, se podría llegar a perder una buena cantidad de información, aproximadamente un 15% de los datos. En cuanto a la completitud, si bien hay una buena cantidad de columnas muy completas, los nulos de dos columnas en especifico pueden afectar dependiendo de las preguntas que se quieran resolver. Por ejemplo, en la columna de proveedor, solo contamos con un 3.4% de completitud, lo cual es bastante bajo.\n",
    "\n",
    "En lo posible, lo mejor es realizar las correcciones necesarias para obtener mejores resultados en la elaboración de un tablero de control. Dependiendo de la relevancia de la información como proveedor y orden de compra en el tablero de control, si estos datos son muy importantes para el propósito del negocio, se podría concluir que no es viable crear el tablero de control sin corregir estos problemas de datos. En caso contrario, es importante considerar la posibilidad de asignar un valor de \"Anónimo\" o \"Desconocido\" a estos campos para poder construir el tablero de control y si en definitiva para orden no se ve como un campo necesario también se podría considerar eliminar esa información para la contrucción del tablero de control.\n",
    "\n",
    "\n",
    "¿Qué funcionalidades de PySpark puedo utilizar para realizar el entendimiento de datos y cómo las puedo utilizar?\n",
    "hay varias funciones que se pueden usar para el entendimiento de datos como lo son:\n",
    "\n",
    "- sumary()\n",
    "- toda sentencia SQL que perfita filtrar\n",
    "\n",
    "¿Qué métodos podría utilizar para reemplazar los valores nulos de una columna por el promedio de la misma?\n",
    "- na.fill(newValue)\n",
    "- .fillna({'col':newValue})"
   ]
  },
  {
   "cell_type": "markdown",
   "metadata": {
    "id": "xsIHBKMTPn3g"
   },
   "source": [
    "## Cierre\n",
    "\n",
    "Completado este tutorial ya sabrá la forma básica de utilizar PySpark. Ya sabe cómo crear DataFrames a partir de datos existentes, cómo seleccionar columnas o filas de este Dataframe, cómo rellenar espacios vacíos, cómo aplicar sus propias funciones a estos datos y los más importante, cómo utilizarlo para realizar una fase de entendimiento de datos.\n",
    "\n",
    "Las tablas detallesOrdenesCopia y OrdenesCopia estaran disponibles en caso de que desee repetir este tutorial cuantas veces considere necesario"
   ]
  },
  {
   "cell_type": "markdown",
   "metadata": {
    "id": "GV2OfMqRPn3g"
   },
   "source": [
    "## 7. Información adicional\n",
    "\n",
    "Si quiere conocer más sobre PySpark la guía más detallada es la documentación oficial, la cual puede encontrar acá: https://spark.apache.org/docs/latest/api/python/index.html <br>\n",
    "Para ir directamente a la documentación de PySpark SQL, donde está la información sobre los DataFrames: https://spark.apache.org/docs/latest/api/python/pyspark.sql.html <br>\n",
    "\n",
    "El Capítulo 2 del libro <i>Learn PySpark : Build Python-based Machine Learning and Deep Learning Models, New York: Apress. 2019</i> de Pramod Singh contiene muchos ejemplos útiles, puede encontrarlo en la biblioteca virtual de la universidad."
   ]
  },
  {
   "cell_type": "markdown",
   "metadata": {
    "id": "iKeHXm96Pn3h"
   },
   "source": [
    "## 8. Preguntas frecuentes\n",
    "\n",
    "1. Si en el cálculo de los histogramas o en una de sus UDF obtiene el error: TypeError: unsupported operand type(s) for *: 'decimal.Decimal' and 'float' verifique los tipos de las columnas que está intentando operar y, si alguna es double, conviértala a float.\n",
    "\n",
    "2. En algunos casos, encontrará también información sobre <i>Pandas_UDF</i>. <i>Pandas_UDF</i> son también User Defined Functions, por lo general los Pandas UDF son más eficientes que los UDF tradicionales, sin embargo, hay un bug con la versión de PySpark y de Java que se está usando, lo que previene la utilización de Pandas_UDF.\n",
    "\n",
    "3. Si al ejecutar la configuración de la sesión Spark le aparece el error <i>Cannot run multiple SparkContexts at once; existing SparkContext(app=pyspark-shell, master=local[*])</i> Reinicie el kernel y vuelva a ejecutar\n"
   ]
  },
  {
   "cell_type": "code",
   "execution_count": null,
   "metadata": {
    "id": "0JxEJmKnPn3h"
   },
   "outputs": [],
   "source": []
  }
 ],
 "metadata": {
  "colab": {
   "collapsed_sections": [
    "qxN27II0Pn3T",
    "GnAScmClPn3W",
    "UuZspay3Pn3Z",
    "ZHLs1H0hPn3b",
    "QgkzeSm4Pn3b",
    "LZyQcqCvPn3c",
    "eDf54JyKPn3d",
    "ltTluhtIPn3e",
    "IPhtXcD1Pn3g",
    "-axExLnhPn3g",
    "YfSMeXZQPn3g"
   ],
   "name": "MISW-ETL-Entendimiento.ipynb",
   "provenance": []
  },
  "kernelspec": {
   "display_name": "Python 3 (ipykernel)",
   "language": "python",
   "name": "python3"
  },
  "language_info": {
   "codemirror_mode": {
    "name": "ipython",
    "version": 3
   },
   "file_extension": ".py",
   "mimetype": "text/x-python",
   "name": "python",
   "nbconvert_exporter": "python",
   "pygments_lexer": "ipython3",
   "version": "3.7.13"
  },
  "toc-autonumbering": true,
  "toc-showcode": true
 },
 "nbformat": 4,
 "nbformat_minor": 4
}
